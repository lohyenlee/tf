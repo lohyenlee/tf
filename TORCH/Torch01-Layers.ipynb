{
 "cells": [
  {
   "cell_type": "markdown",
   "id": "87609550-5469-42e9-9bda-24378616d02f",
   "metadata": {},
   "source": [
    "# Neural Networks in PyTorch\n",
    "## Chapter 1: Neural Network Layers\n",
    "*Yen Lee Loh, 2021-9-1; 2022-9-22*\n",
    "\n",
    "In this Jupyter Lab notebook we demonstrate elementwise layers, linear layers, loss functions, pooling layers, and convolution layers."
   ]
  },
  {
   "cell_type": "markdown",
   "id": "ea7e3fa2-f789-407c-af2c-f739505c0264",
   "metadata": {
    "jp-MarkdownHeadingCollapsed": true,
    "tags": []
   },
   "source": [
    "---\n",
    "## 0.  Setup"
   ]
  },
  {
   "cell_type": "code",
   "execution_count": 1,
   "id": "3aef155d-580e-4294-a1ed-4fdc91c370bd",
   "metadata": {},
   "outputs": [],
   "source": [
    "import numpy as np\n",
    "import torch\n",
    "import torch.nn as nn\n",
    "import matplotlib.pyplot as plt\n",
    "rng = np.random.default_rng()\n",
    "plt.rcParams.update ({'font.family':'serif', 'font.size':14})"
   ]
  },
  {
   "cell_type": "markdown",
   "id": "00068885-b8a8-4e8f-ae3b-4918f67f360d",
   "metadata": {
    "tags": []
   },
   "source": [
    "---\n",
    "## 1. Elementwise layers"
   ]
  },
  {
   "cell_type": "markdown",
   "id": "b5c98342-cb42-4659-bd5b-e39d5fb948c2",
   "metadata": {
    "tags": []
   },
   "source": [
    "A **neural network** consists of one or more neural layers.  \n",
    "\n",
    "A **layer** is a function that takes some **inputs** and produces some **outputs**.  Nearly all layers are **differentiable** functions.\n",
    "\n",
    "The simplest type of layer is an **elementwise layer**.  Such a layer applies a function elementwise to the input vector.  The most common use of elementwise layers is to introduce nonlinearity into the neural network, using monotonic nonlinear function such as tanh, sigmoid, or ReLu.  We may consider an elementwise layer to consist of individual neurons, each with 1 input and 1 output, as depicted below:\n",
    "\n",
    "<img src=\"SKETCHES/tanhlayer.png\" />\n",
    "In PyTorch, we can construct such a layer with torch.nn.Tanh().  (The Mathematica equivalent is TanhLayer[ ].)"
   ]
  },
  {
   "cell_type": "code",
   "execution_count": 6,
   "id": "604a237d-7277-49a1-8f4f-31df4a471984",
   "metadata": {},
   "outputs": [
    {
     "data": {
      "text/plain": [
       "tensor([0.9640])"
      ]
     },
     "execution_count": 6,
     "metadata": {},
     "output_type": "execute_result"
    }
   ],
   "source": [
    "model = nn.Tanh()               # layer function f(x) = tanh(x)\n",
    "xd = torch.Tensor([2])          # input             x = 2\n",
    "model(xd)                       # output            Y = tanh(2)"
   ]
  },
  {
   "cell_type": "code",
   "execution_count": 10,
   "id": "b02955c5-4d60-4b48-bc82-e1565b2e2280",
   "metadata": {},
   "outputs": [
    {
     "name": "stdout",
     "output_type": "stream",
     "text": [
      "0.9640275800758169\n"
     ]
    }
   ],
   "source": [
    "#======== 1. We can compute tanh by just calling the numpy function\n",
    "print( np.tanh (2) )"
   ]
  },
  {
   "cell_type": "code",
   "execution_count": 15,
   "id": "fbf78a94-7991-4bf7-a6bf-fb088c47b772",
   "metadata": {},
   "outputs": [
    {
     "name": "stdout",
     "output_type": "stream",
     "text": [
      "tensor([0.9640])\n"
     ]
    }
   ],
   "source": [
    "#======== 2. We can also compute tanh by calling the corresponding torch function, but the input must be a tensor\n",
    "print( torch.tanh ( torch.Tensor([2.0])  ) )"
   ]
  },
  {
   "cell_type": "code",
   "execution_count": 17,
   "id": "b2819190-dfc4-4cfe-8166-67a146014ab9",
   "metadata": {},
   "outputs": [
    {
     "name": "stdout",
     "output_type": "stream",
     "text": [
      "tensor([0.9640])\n"
     ]
    }
   ],
   "source": [
    "#======== 3. We can also compute tanh by building a layer, then supplying the input\n",
    "print( nn.Tanh()     ( torch.Tensor([2])  )    )"
   ]
  },
  {
   "cell_type": "code",
   "execution_count": 18,
   "id": "92b7313a-a52a-44d2-bb62-226e4e47eadd",
   "metadata": {},
   "outputs": [
    {
     "data": {
      "text/plain": [
       "[<matplotlib.lines.Line2D at 0x7fb49428fd60>]"
      ]
     },
     "execution_count": 18,
     "metadata": {},
     "output_type": "execute_result"
    },
    {
     "data": {
      "image/png": "[encoded data removed]",
      "text/plain": [
       "<Figure size 432x288 with 1 Axes>"
      ]
     },
     "metadata": {
      "needs_background": "light"
     },
     "output_type": "display_data"
    }
   ],
   "source": [
    "xnd = np.arange(-9,9,1)         # input vector  X = [-9, -8, -7, ..., +8]\n",
    "Ynd = model(torch.Tensor(xnd))  # output vector Y = tanh(X),  elementwise\n",
    "plt.plot (xnd, Ynd, '-o')"
   ]
  },
  {
   "cell_type": "code",
   "execution_count": 4,
   "id": "9e0900d6-15e0-48db-bff9-e488257419e3",
   "metadata": {},
   "outputs": [
    {
     "data": {
      "text/plain": [
       "[<matplotlib.lines.Line2D at 0x7fc2e9de7820>]"
      ]
     },
     "execution_count": 4,
     "metadata": {},
     "output_type": "execute_result"
    },
    {
     "data": {
      "image/png": "[encoded data removed]",
      "text/plain": [
       "<Figure size 432x288 with 1 Axes>"
      ]
     },
     "metadata": {
      "needs_background": "light"
     },
     "output_type": "display_data"
    }
   ],
   "source": [
    "#==== PyTorch's Sigmoid function has a rather different shape, and goes from 0 to 1.\n",
    "model = nn.Sigmoid()            \n",
    "xnd = np.arange(-9,9,1) \n",
    "Ynd = model(torch.Tensor(xnd))\n",
    "plt.plot (xnd, Ynd, '-o')"
   ]
  },
  {
   "cell_type": "markdown",
   "id": "1c3a6202-77f9-4e71-ae96-22d4c1de70c4",
   "metadata": {
    "tags": []
   },
   "source": [
    "---\n",
    "## 2. Linear layers"
   ]
  },
  {
   "cell_type": "markdown",
   "id": "8211ca13-00a5-46a2-aefa-d5a96b654f3a",
   "metadata": {},
   "source": [
    "A linear layer takes an \n",
    "**input vector** \n",
    "$\\underline{\\mathbf{x}}$, multiplies it by a \n",
    "**weight matrix** \n",
    "$\\underline{\\underline{\\mathbf{W}}}$, adds a \n",
    "**bias vector** \n",
    "$\\underline{\\mathbf{b}}$, and produces an \n",
    "**output vector** \n",
    "$\\underline{\\mathbf{Y}} = \\underline{\\underline{\\mathbf{W}}}\\cdot \\underline{\\mathbf{x}} + \\underline{\\mathbf{b}}$.  The components of the weight matrix and bias vector are **learnable parameters** that are adjusted during training. Visualize this as follows:\n",
    "\n",
    "<img src=\"SKETCHES/linearlayer.png\" alt=\"linearlayer.png\" />\n",
    "Linear layers are implemented in PyTorch as torch.nn.Linear(numInputs,numOutputs) and in Mathematica as LinearLayer[ ]."
   ]
  },
  {
   "cell_type": "code",
   "execution_count": 27,
   "id": "b9ebaaa0-0195-40fd-99b5-e41ac61ea1e5",
   "metadata": {},
   "outputs": [
    {
     "data": {
      "text/plain": [
       "tensor([11.])"
      ]
     },
     "execution_count": 27,
     "metadata": {},
     "output_type": "execute_result"
    }
   ],
   "source": [
    "model = nn.Linear(1,1)                                     # layer function Y = f(x) = w*x + b\n",
    "model.weight = torch.nn.Parameter(torch.Tensor( [[ 2 ]] )) # w = 2\n",
    "model.bias   = torch.nn.Parameter(torch.Tensor(  [ 5 ] ))  # b = 5\n",
    "xd = torch.Tensor([3])                                     # x = 3\n",
    "model(xd).detach()                                         # y = 2*3+5 = 11"
   ]
  },
  {
   "cell_type": "code",
   "execution_count": 35,
   "id": "b5e8465b-a5bb-4686-b756-d1734a5a20fb",
   "metadata": {},
   "outputs": [
    {
     "data": {
      "text/plain": [
       "tensor([ 9., 18.])"
      ]
     },
     "execution_count": 35,
     "metadata": {},
     "output_type": "execute_result"
    }
   ],
   "source": [
    "model = nn.Linear(3,2)                                               # layer function f(X) = W.X + B\n",
    "model.weight = torch.nn.Parameter(torch.Tensor( [[1,1,1],[2,2,2]] )) # weight matrix W (MUST be a 2x3 matrix)\n",
    "model.bias   = torch.nn.Parameter(torch.Tensor(  [0,0] ))            # bias vector B (MUST be a 2-vector)\n",
    "xd = torch.Tensor([3,3,3])                                           # input vector X\n",
    "model(xd).detach()                                                   # output Y = W.X + B"
   ]
  },
  {
   "cell_type": "code",
   "execution_count": 36,
   "id": "83b3a692-2d4a-41ab-869f-03cc45b707f7",
   "metadata": {},
   "outputs": [
    {
     "data": {
      "text/plain": [
       "array([ 9, 18])"
      ]
     },
     "execution_count": 36,
     "metadata": {},
     "output_type": "execute_result"
    }
   ],
   "source": [
    "#======== Verify that this is the same as matrix multiplication\n",
    "W = np.array( [[1,1,1],[2,2,2]] )\n",
    "B = np.array( [0,0] )\n",
    "X = np.array( [3,3,3] )\n",
    "W.dot(X) + B"
   ]
  },
  {
   "cell_type": "code",
   "execution_count": 37,
   "id": "95c79270-faf2-42af-ad7a-eeb45ba547bb",
   "metadata": {},
   "outputs": [
    {
     "data": {
      "text/plain": [
       "array([ 9, 18])"
      ]
     },
     "execution_count": 37,
     "metadata": {},
     "output_type": "execute_result"
    }
   ],
   "source": [
    "W @ X + B"
   ]
  },
  {
   "cell_type": "markdown",
   "id": "8427cd81-dab0-4e06-8ecc-5a5120211f17",
   "metadata": {
    "tags": []
   },
   "source": [
    "---\n",
    "## 3. Loss functions"
   ]
  },
  {
   "cell_type": "markdown",
   "id": "7fb8ccba-2703-4a16-baa9-69625c04d13a",
   "metadata": {},
   "source": [
    "A **loss function** (or **criterion**) is a special type of layer that takes two inputs and produces one output.  \n",
    "\n",
    "<img src=\"SKETCHES/losslayer.png\" />\n",
    "Ultimately, the loss should be a real-valued scalar.  Typically, a loss function is used to compare a **model prediction** with a **target** value that is known to be correct.  Typically, if the prediction equals the target, the loss is zero.  But if the prediction is far off from the target, the loss is large.  During network training, the model parameters are adjusted in order to minimize the loss.\n",
    "\n",
    "PyTorch supplies various types of loss functions, including L1Loss, MSELoss, BCELoss, and CrossEntropyLoss, as demonstrated below."
   ]
  },
  {
   "cell_type": "markdown",
   "id": "dbb0412a-9d83-424e-9398-a7c24ef50b0f",
   "metadata": {},
   "source": [
    "### The L1 loss function\n",
    "In PyTorch, the \"L1Loss\" function takes two tensors as input and computes $f(Y,y)=\\lvert Y-y \\rvert$ elementwise:"
   ]
  },
  {
   "cell_type": "code",
   "execution_count": 40,
   "id": "dee82ea8-719e-48f2-a6f1-71c586825944",
   "metadata": {},
   "outputs": [
    {
     "data": {
      "text/plain": [
       "tensor(5.)"
      ]
     },
     "execution_count": 40,
     "metadata": {},
     "output_type": "execute_result"
    }
   ],
   "source": [
    "lossFunc = nn.L1Loss()\n",
    "y = torch.Tensor( [ 42 ] )     # target output (actual training label fromdataset)\n",
    "Y = torch.Tensor( [ 37 ] )     # model output (prediction)\n",
    "lossFunc(Y,y)                  # epsilon = |Y-y|"
   ]
  },
  {
   "cell_type": "code",
   "execution_count": 39,
   "id": "1e1db12a-61db-49fd-b676-b98ebc36d12b",
   "metadata": {},
   "outputs": [
    {
     "name": "stdout",
     "output_type": "stream",
     "text": [
      "tensor([5., 4., 3., 2., 1., 0., 1., 2., 3., 4.])\n"
     ]
    },
    {
     "data": {
      "image/png": "[encoded data removed]",
      "text/plain": [
       "<Figure size 432x288 with 1 Axes>"
      ]
     },
     "metadata": {
      "needs_background": "light"
     },
     "output_type": "display_data"
    }
   ],
   "source": [
    "lossFunc = nn.L1Loss(reduction='none')                    # return the individual losses |Y_d - y_d|\n",
    "h = 5\n",
    "y = torch.Tensor(np.array([42   for d in range(-h,h)] ))  # target output (actual training label from dataset)\n",
    "Y = torch.Tensor(np.array([42+d for d in range(-h,h)] ))  # model output (prediction)\n",
    "e = lossFunc(Y,y)\n",
    "print (e)\n",
    "plt.plot (Y.flatten(), e.flatten(), '-o')\n",
    "plt.title ('Target output y = 42')\n",
    "plt.xlabel ('Model output Y')\n",
    "plt.ylabel (r'L1 loss $|Y-y|$');"
   ]
  },
  {
   "cell_type": "markdown",
   "id": "a7a378e8-c55a-4aaf-9165-80571bdfc344",
   "metadata": {},
   "source": [
    "### The Mean Square Error (MSE) loss function"
   ]
  },
  {
   "cell_type": "markdown",
   "id": "ddda0f7a-4bfa-4230-924a-af7b139276be",
   "metadata": {},
   "source": [
    "The MSE loss function computes $f(Y,y) = (Y-y)^2$:"
   ]
  },
  {
   "cell_type": "code",
   "execution_count": 5,
   "id": "def921e4-ae2e-430e-a05f-be5aefa5c508",
   "metadata": {},
   "outputs": [
    {
     "name": "stdout",
     "output_type": "stream",
     "text": [
      "tensor([25., 16.,  9.,  4.,  1.,  0.,  1.,  4.,  9., 16.])\n"
     ]
    },
    {
     "data": {
      "image/png": "[encoded data removed]",
      "text/plain": [
       "<Figure size 432x288 with 1 Axes>"
      ]
     },
     "metadata": {
      "needs_background": "light"
     },
     "output_type": "display_data"
    }
   ],
   "source": [
    "lossFunc = nn.MSELoss(reduction='none')                    # return the individual losses |Y_d - y_d|\n",
    "h = 5\n",
    "y = torch.Tensor(np.array([42   for d in range(-h,h)] ))  # target output (actual training label from dataset)\n",
    "Y = torch.Tensor(np.array([42+d for d in range(-h,h)] ))  # model output (prediction)\n",
    "e = lossFunc(Y,y)\n",
    "print (e)\n",
    "plt.plot (Y.flatten(), e.flatten(), '-o')\n",
    "plt.title ('Target output y = 42')\n",
    "plt.xlabel ('Model output Y')\n",
    "plt.ylabel (r'L2 loss $|Y-y|$');"
   ]
  },
  {
   "cell_type": "markdown",
   "id": "f22321d7-17af-47b4-aafb-7e0d3cb335e7",
   "metadata": {},
   "source": [
    "### The Binary Cross-Entropy (BCE) loss function"
   ]
  },
  {
   "cell_type": "markdown",
   "id": "8afc6901-c09c-4a9b-b083-cf850b49ce2f",
   "metadata": {},
   "source": [
    "This loss function computes $f(Y,y) = -Y \\ln y - (1-Y) \\ln (1-y)$:"
   ]
  },
  {
   "cell_type": "code",
   "execution_count": 41,
   "id": "de3cd558-9289-4cfe-a1ae-6f206a7ea3f8",
   "metadata": {},
   "outputs": [
    {
     "name": "stdout",
     "output_type": "stream",
     "text": [
      "tensor(0.0101)\n",
      "tensor(4.6052)\n",
      "tensor(4.6052)\n"
     ]
    }
   ],
   "source": [
    "lossFunc = nn.BCELoss()\n",
    "y = torch.Tensor( [ 1    ] ) # target output: '1'\n",
    "Y = torch.Tensor( [ .99  ] ) # model output: 99% probability that output is '1'\n",
    "print (lossFunc(Y,y))        # loss is very small\n",
    "\n",
    "y = torch.Tensor( [ 1  ] )   # target output: '1'\n",
    "Y = torch.Tensor( [ .01 ] )  # model output: 1% probability that output is '1'\n",
    "print (lossFunc(Y,y))        # loss is very large; model is being punished for being wrong\n",
    "\n",
    "y = torch.Tensor( [ 0   ] )  # target output: '0'\n",
    "Y = torch.Tensor( [ .99 ] )  # model output: 99% probability that output is '1'\n",
    "print (lossFunc(Y,y))        # loss is very large; model is being punished for being wrong"
   ]
  },
  {
   "cell_type": "code",
   "execution_count": 44,
   "id": "8cadd21c-caf3-40e5-9efe-384c9cbd7ccf",
   "metadata": {},
   "outputs": [
    {
     "data": {
      "image/png": "[encoded data removed]",
      "text/plain": [
       "<Figure size 432x288 with 1 Axes>"
      ]
     },
     "metadata": {
      "needs_background": "light"
     },
     "output_type": "display_data"
    }
   ],
   "source": [
    "lossFunc = nn.BCELoss(reduction='none')               # return the individual losses, bce(y_i, Y_i)\n",
    "Y = torch.Tensor(np.array([d   for d in np.arange(.01,.995,.01)] ))  # model output (prediction)\n",
    "y = torch.Tensor(np.array([0   for d in np.arange(.01,.995,.01)] ))  # target output (actual training label from dataset)\n",
    "e = lossFunc(Y,y)\n",
    "plt.plot (Y.flatten(), e.flatten(), '-', label='y=0')\n",
    "y = torch.Tensor(np.array([1   for d in np.arange(.01,.995,.01)] ))  # target output (actual training label from dataset)\n",
    "e = lossFunc(Y,y)\n",
    "plt.plot (Y.flatten(), e.flatten(), '-', label='y=1')\n",
    "plt.legend ()\n",
    "plt.xlabel ('Model output Y'); plt.xlim ([0,1]); plt.ylim ([0,3]);\n",
    "plt.ylabel (r'BCE loss $f(Y,y)$');"
   ]
  },
  {
   "cell_type": "markdown",
   "id": "9dad7622-798e-49fb-8752-a71e37913c7e",
   "metadata": {},
   "source": [
    "Above, we see that if the target output is y=1, then the BCE loss is 0 if Y=1 (model has 100% confidence about correct answer) and goes to infinity if Y=0 (model always predicts wrong answer)."
   ]
  },
  {
   "cell_type": "markdown",
   "id": "c456a52a-9776-4953-b390-3682dd39374e",
   "metadata": {},
   "source": [
    "### The Cross-Entropy Loss function"
   ]
  },
  {
   "cell_type": "markdown",
   "id": "e37e7c7d-4675-4cbc-96f3-107be9ed4f07",
   "metadata": {},
   "source": [
    "- This loss function is used for general classification problems.  It is more difficult to explain.  \n",
    "- Below, lossFunc(Y,y) takes two tensors as input.\n",
    "- The first tensor, Y, is an array of *logits* that represent the \"confidence\" of the model about the input belonging to each class.\n",
    "  For example, in the first example below, the zeroth element of Y is -1, indicating that the model thinks that the input is unlikely to be in class 0,\n",
    "  whereas the third element of Y is +9, indicating that the input is most likely to be in class 3.\n",
    "- The second tensor, y, is the target output (the actual class index).\n"
   ]
  },
  {
   "cell_type": "code",
   "execution_count": 24,
   "id": "2e1244be-cc32-4909-be01-b30a238d3451",
   "metadata": {},
   "outputs": [
    {
     "name": "stdout",
     "output_type": "stream",
     "text": [
      "tensor(0.0014)\n",
      "tensor(7.0014)\n"
     ]
    }
   ],
   "source": [
    "lossFunc = nn.CrossEntropyLoss()\n",
    "Y = torch.Tensor( [[ -1., 0., 1., 9., 2. ]] )  # model predicts class=3 with high confidence\n",
    "y = torch.tensor( [ 3 ], dtype=torch.long)     # actual class is class=3\n",
    "print (lossFunc(Y,y))                          # loss is very small\n",
    "\n",
    "Y = torch.Tensor( [[ -1., 0., 1., 9., 2. ]] )  # model predicts class=3 with high confidence\n",
    "y = torch.tensor( [ 4 ], dtype=torch.long)     # actual class is class=4\n",
    "print (lossFunc(Y,y))                          # loss is very large (i.e., model is bad)"
   ]
  },
  {
   "cell_type": "markdown",
   "id": "ecc8b971-a5c4-43f8-a9ff-5cb170eb6d9d",
   "metadata": {
    "tags": []
   },
   "source": [
    "---\n",
    "## 4. Sequences of layers"
   ]
  },
  {
   "cell_type": "markdown",
   "id": "1246cd89-84cb-43d7-b33d-69637d38916f",
   "metadata": {
    "jp-MarkdownHeadingCollapsed": true,
    "tags": []
   },
   "source": [
    "A real neural network usually contains multiple layers, connected in some fashion.  A **feedforward neural network** is one that can be represented by a directed graph, with each layer represented by an edge pointing from input to output, such that there are no cycles.  The simplest network architecture is a sequential one, where the output of one layer is fed in as in the input to the next layer.  For example, the network below implements the function $Y=\\tanh(wx+b)$.  First it computes $u=wx+b$, then $Y=\\tanh(u)$:\n",
    "\n",
    "<img src=\"SKETCHES/sequentiallayers.png\" />\n",
    "\n",
    "This is accomplished using torch.nn.Sequential. (The Mathematica equivalent is NetChain[].)"
   ]
  },
  {
   "cell_type": "code",
   "execution_count": 54,
   "id": "a9635d43-be92-4ac5-ba1a-5df8915acd15",
   "metadata": {},
   "outputs": [
    {
     "data": {
      "image/png": "[encoded data removed]",
      "text/plain": [
       "<Figure size 432x288 with 1 Axes>"
      ]
     },
     "metadata": {
      "needs_background": "light"
     },
     "output_type": "display_data"
    }
   ],
   "source": [
    "model = nn.Sequential(\n",
    "          nn.Linear(1,1),   # w and b are initialized randomly\n",
    "          nn.Sigmoid()      # this performs a fixed function with NO adjustable parameters\n",
    "        )\n",
    "model[0].weight = torch.nn.Parameter(torch.Tensor( [[1]] )) # weight matrix W\n",
    "model[0].bias   = torch.nn.Parameter(torch.Tensor(  [3] )) # bias vector B\n",
    "xnd = torch.Tensor( [[x] for x in np.arange(-9,9,1)] )\n",
    "Ynd = model(xnd)\n",
    "plt.plot (xnd, Ynd.detach().numpy(), '-o')\n",
    "plt.xlabel (r'$x$')\n",
    "plt.ylabel (r'$y=tanh(wx+b)$');"
   ]
  },
  {
   "cell_type": "markdown",
   "id": "285df0d4-80d6-4010-a3f8-7086d3e0f73f",
   "metadata": {},
   "source": [
    "Moreover, one typically takes the classifier output and the training output and feeds them into a loss function to get the loss:\n",
    "\n",
    "<img src=\"SKETCHES/sequentiallayers2.png\" />\n",
    "\n",
    "In the example below, the black symbols are training data, and the blue crosses are model predictions.  \n",
    "When the model matches the data, the loss is small.  \n",
    "Near the middle of the graph, the model is uncertain about its prediction, and the loss is about 0.69.  \n",
    "Moreover, there are some points where the model is confident about predicting a '0', but the true data is '1', and this causes the largest loss."
   ]
  },
  {
   "cell_type": "code",
   "execution_count": 15,
   "id": "365409b6-3de7-4d0d-ac8a-32a3a76d6f4a",
   "metadata": {},
   "outputs": [
    {
     "data": {
      "text/plain": [
       "<matplotlib.legend.Legend at 0x7fc2e9b3ddc0>"
      ]
     },
     "execution_count": 15,
     "metadata": {},
     "output_type": "execute_result"
    },
    {
     "data": {
      "image/png": "[encoded data removed]",
      "text/plain": [
       "<Figure size 432x288 with 1 Axes>"
      ]
     },
     "metadata": {
      "needs_background": "light"
     },
     "output_type": "display_data"
    }
   ],
   "source": [
    "ynd = torch.round (torch.sigmoid(xnd + 3.5))\n",
    "lossFunc = nn.BCELoss(reduction='none')\n",
    "en = lossFunc (Ynd, ynd)\n",
    "plt.plot (xnd, ynd.detach().numpy(), '--kp', label='actual $y_n$')\n",
    "plt.plot (xnd, Ynd.detach().numpy(), 'x', label='model $Y(x_n)$')\n",
    "plt.plot (xnd, en.detach().numpy(),  '--rX', label='loss $\\epsilon_n$')\n",
    "plt.xlabel ('$x$')\n",
    "plt.legend ()"
   ]
  },
  {
   "cell_type": "markdown",
   "id": "ee1067e4-f31f-4773-8622-8b3fba361bcc",
   "metadata": {
    "tags": []
   },
   "source": [
    "---\n",
    "## 5.  Pooling layers\n",
    "A pooling layer takes an input matrix and produces a smaller output matrix.  It produces a coarse-grained version of an image by combining several pixel values.  For example, nn.AvgPool2d(kernel_size=2) divides the original image into 2x2 blocks and averages over each blocks, as demonstrated below."
   ]
  },
  {
   "cell_type": "code",
   "execution_count": 56,
   "id": "f830bd26-9226-427c-8614-1de548233e9d",
   "metadata": {},
   "outputs": [
    {
     "name": "stdout",
     "output_type": "stream",
     "text": [
      "\n",
      "INPUT PIXELS = \n",
      " [[1. 1. 0. 0. 0. 0. 1. 1.]\n",
      " [1. 1. 0. 0. 0. 0. 1. 1.]\n",
      " [1. 1. 1. 0. 0. 1. 1. 1.]\n",
      " [0. 1. 1. 1. 1. 1. 1. 0.]\n",
      " [0. 0. 1. 1. 1. 1. 0. 0.]\n",
      " [0. 0. 0. 1. 1. 0. 0. 0.]\n",
      " [0. 0. 0. 1. 1. 0. 0. 0.]\n",
      " [0. 0. 0. 1. 1. 0. 0. 0.]]\n",
      "\n",
      "OUTPUT PIXELS = \n",
      " tensor([[1.0000, 0.0000, 0.0000, 1.0000],\n",
      "        [0.7500, 0.7500, 0.7500, 0.7500],\n",
      "        [0.0000, 0.7500, 0.7500, 0.0000],\n",
      "        [0.0000, 0.5000, 0.5000, 0.0000]])\n"
     ]
    },
    {
     "data": {
      "text/plain": [
       "Text(0.5, 1.0, 'output')"
      ]
     },
     "execution_count": 56,
     "metadata": {},
     "output_type": "execute_result"
    },
    {
     "data": {
      "image/png": "[encoded data removed]",
      "text/plain": [
       "<Figure size 432x216 with 2 Axes>"
      ]
     },
     "metadata": {
      "needs_background": "light"
     },
     "output_type": "display_data"
    }
   ],
   "source": [
    "model = nn.AvgPool2d(kernel_size=2)\n",
    "xij = np.array ([      # xij[i,j] is the pixel value at row i and column j of the image\n",
    "  [1,1,0,0,0,0,1,1],   # xij[2,3] is the pixel value at row 2 and column 3\n",
    "  [1,1,0,0,0,0,1,1],\n",
    "  [1,1,1,0,0,1,1,1],\n",
    "  [0,1,1,1,1,1,1,0],\n",
    "  [0,0,1,1,1,1,0,0],\n",
    "  [0,0,0,1,1,0,0,0],\n",
    "  [0,0,0,1,1,0,0,0],\n",
    "  [0,0,0,1,1,0,0,0],\n",
    "],dtype=float)\n",
    "xnij = torch.tensor(xij,dtype=torch.float32).reshape(1,8,8) # need to make a LIST of input images: n=0,1,2,3,... label the different images\n",
    "Ynij = model(xnij).detach()          # feed 1  8x8 image into the model, get 1  4x4 image as output\n",
    "Yij = Ynij[0]                        # just take that image and save it as a single 4x4 array\n",
    "print ('\\nINPUT PIXELS = \\n',xij)\n",
    "print ('\\nOUTPUT PIXELS = \\n',Yij)\n",
    "plt.subplots(1, 2, figsize=(6,3))\n",
    "plt.subplot(1,2, 1); plt.imshow(xij) ; plt.title ('input')\n",
    "plt.subplot(1,2, 2); plt.imshow(Yij) ; plt.title ('output')"
   ]
  },
  {
   "cell_type": "markdown",
   "id": "c1a7bfde-33d2-46ab-8555-7437b5fdc916",
   "metadata": {},
   "source": [
    "In the above example, an 8x8 image is downsampled to 4x4 using a pooling layer."
   ]
  },
  {
   "cell_type": "markdown",
   "id": "6eef4c73-cf5b-4845-bcb8-1664394d97c5",
   "metadata": {
    "tags": []
   },
   "source": [
    "---\n",
    "## 6.  Convolutional layers"
   ]
  },
  {
   "cell_type": "markdown",
   "id": "29ec9f44-bb5f-4131-bef5-393d5b890aec",
   "metadata": {
    "tags": []
   },
   "source": [
    "### 6.1. Definition"
   ]
  },
  {
   "cell_type": "markdown",
   "id": "55fac397-4ea0-489f-85c6-0b47a65ad173",
   "metadata": {},
   "source": [
    "In the context of machine learning, the term \"convolution\" is often used to mean \"correlation\".  The correlation of an input vector $x_i$ and a kernel $z_k$ is\n",
    "\n",
    "$\\qquad\\begin{align}\n",
    "y_j = \\sum_{i} x_i z_{i-j} \\quad (i,j,k\\in \\mathbb{Z}).\n",
    "\\end{align}$\n",
    "\n",
    "Here $x_i$, $z_k$, and $y_j$ are vectors with an infinite number of elements but finite support.  In other words, the elements\n",
    "\n",
    "$\\qquad\\begin{align}\n",
    "x_i &\\quad (i=0,1,2,\\dots,I-1) \\\\\n",
    "z_k &\\quad (i=0,1,2,\\dots,K-1) \\\\\n",
    "y_j &\\quad (j=-K+1,\\dots,I+K-1) \n",
    "\\end{align}$\n",
    "\n",
    "may be nonzero, but all other elements are zero.  Moreover, a typical correlation routine includes options for left padding $L$ and right padding $R$, where $\\{L,R\\} \\subseteq \\{0,1,2,\\dots,K-1\\}$.  The output vector from such a routine is\n",
    "\n",
    "$\\qquad\\begin{align}\n",
    "\\{y_j\\} &\\quad (j=-L,\\dots,I-K-1+R).\n",
    "\\end{align}$\n",
    "\n",
    "\n",
    "The example below illustrates a convolution between an input vector of size $I=6$ and a kernel of size $K=3$."
   ]
  },
  {
   "cell_type": "markdown",
   "id": "d7b9d0c2-be6a-4255-a636-ddbcbd50a552",
   "metadata": {},
   "source": [
    "                 -2 -1  0  1  2  3  4  5          index (i or k)\n",
    "    ============================================\n",
    "    x_i                 1  1  0  0  0  1          inputs x_i\n",
    "    z_k                 1  1  1                   kernel z_k\n",
    "    ============================================  shifted kernels z_{i-j}\n",
    "    j=-2          1  1  1                         z_{i+2}\n",
    "    j=-1             1  1  1                      z_{i+1}\n",
    "    j=0                 1  1  1                   z_{i+0}\n",
    "    j=1                    1  1  1\n",
    "    j=2                       1  1  1\n",
    "    j=3                          1  1  1\n",
    "    j=4                             1  1  1\n",
    "    j=5                                1  1  1    z_{i-5}\n",
    "    ============================================\n",
    "    y_j           1  2  2  1  0  1  1  1          L=2, R=2\n",
    "                  1  2  2  1  0  1                L=2, R=0       \n",
    "                        2  1  0  1                L=0, R=0\n",
    "                        2  1  0  1  1  1          L=0, R=2"
   ]
  },
  {
   "cell_type": "markdown",
   "id": "4265b11d-bee9-432c-8083-5e6fcb3e7e13",
   "metadata": {},
   "source": [
    "More generally, the correlation between two tensors is defined as\n",
    "\n",
    "$\\qquad\\begin{align}\n",
    "y_\\mathbf{j} = \\sum_{\\mathbf{i}} x_\\mathbf{i} z_{\\mathbf{i}-\\mathbf{j}}\n",
    "\\end{align}$\n",
    "\n",
    "where the indices $\\mathbf{i}$, $\\mathbf{j}$, and $\\mathbf{k}$ are integer vectors representing points on a 1D, 2D, or 3D grid.  It is often useful to calculate correlations between 1D audio signals, 1D time series, 2D raster images, or 3D datasets.\n",
    "\n",
    "In neural network theory, a convolutional layer is a layer that calculates a 1D, 2D, or 3D convolution (or correlation).  A convolutional neural network (CNN) is a neural network that contains one or more convolutional layers."
   ]
  },
  {
   "cell_type": "markdown",
   "id": "bc8df4fd-6722-40a8-bcbe-63e39e22fe40",
   "metadata": {
    "tags": []
   },
   "source": [
    "\n",
    "(For details, see Mathematica's ListConvolve[ ] and ListCorrelate[ ].)"
   ]
  },
  {
   "cell_type": "markdown",
   "id": "ee6c2cb8-403b-4263-b238-f6041fc1e491",
   "metadata": {
    "tags": []
   },
   "source": [
    "---\n",
    "### 6.2. Why use convolutional layers?"
   ]
  },
  {
   "cell_type": "markdown",
   "id": "70045374-b2e1-4748-ad5f-89dd1bcfb296",
   "metadata": {},
   "source": [
    "The functions below compute convolutions (actually correlations) from first principles:"
   ]
  },
  {
   "cell_type": "code",
   "execution_count": 67,
   "id": "c0892f80-b7ea-41db-952c-e629f78e2fea",
   "metadata": {},
   "outputs": [],
   "source": [
    "'''\n",
    "convolve1d(input, kernel, padleft=0, padright=0)\n",
    "'''\n",
    "def convolve1d (xi, zk, L=0, R=0):\n",
    "  I = len(xi)       # input size\n",
    "  K = len(zk)       # kernel size\n",
    "  if L==-1: L=K-1\n",
    "  if R==-1: R=K-1\n",
    "  J = L + I-K+1 + R\n",
    "  yj = np.zeros (J)\n",
    "  for i in range(I):\n",
    "    for k in range(K):\n",
    "      j = i-k\n",
    "      if j >= -L and j < I-K+1 + R:\n",
    "        yj[L+j] += xi[i] * zk[k]\n",
    "  return yj"
   ]
  },
  {
   "cell_type": "code",
   "execution_count": 68,
   "id": "255c25c2-6afa-4a08-bfb2-ff33e4eecc0f",
   "metadata": {},
   "outputs": [],
   "source": [
    "'''\n",
    "convolve2d(input, kernel, padleft=0, padright=0)\n",
    "'''\n",
    "from collections.abc import Iterable\n",
    "def convolve2d (xi, zk, L=0, R=0):\n",
    "  xi = np.array (xi) # should check if xi are list\n",
    "  zk = np.array (zk)\n",
    "  I = np.array( xi.shape )\n",
    "  K = np.array( zk.shape )\n",
    "  if not isinstance(L, Iterable): L = np.full_like(I, L)\n",
    "  if not isinstance(R, Iterable): R = np.full_like(I, R)\n",
    "  L = np.where (L==-1, K-1, L)\n",
    "  R = np.where (R==-1, K-1, R)\n",
    "  J = L + I-K+1 + R\n",
    "  #print (\"Input size:\\tI={}\\nKernel size:\\tK={}\\nLeft padding:\\tL={}\\nRight padding:\\tR={}\\nOutput size:\\tJ={}\".format (I,K,L,R,J))\n",
    "  yj = np.zeros (J)\n",
    "  for i0 in range(I[0]):\n",
    "    for i1 in range(I[1]):\n",
    "      for k0 in range(K[0]):\n",
    "        for k1 in range(K[1]):\n",
    "          j0 = L[0] + i0 - k0\n",
    "          j1 = L[1] + i1 - k1\n",
    "          if j0 >= 0 and j0 < J[0] and j1 >=0 and j1 < J[1]:\n",
    "            yj[j0,j1] += xi[i0,i1] * zk[k0,k1]\n",
    "  return yj"
   ]
  },
  {
   "cell_type": "code",
   "execution_count": 69,
   "id": "1e3a6192-e531-4766-b4d5-5a6e491f7811",
   "metadata": {},
   "outputs": [
    {
     "name": "stdout",
     "output_type": "stream",
     "text": [
      "[2. 1. 0. 1.]\n",
      "[1. 2. 2. 1. 0. 1.]\n",
      "[2. 1. 0. 1. 1. 1.]\n",
      "[1. 2. 2. 1. 0. 1. 1. 1.]\n"
     ]
    }
   ],
   "source": [
    "#======== DEMONSTRATE EFFECT OF PADDING\n",
    "print ( convolve1d ([1,1,0,0,0,1], [1,1,1])              )\n",
    "print ( convolve1d ([1,1,0,0,0,1], [1,1,1], L=-1)        )\n",
    "print ( convolve1d ([1,1,0,0,0,1], [1,1,1], R=-1)        )\n",
    "print ( convolve1d ([1,1,0,0,0,1], [1,1,1], L=-1, R=-1)  )"
   ]
  },
  {
   "cell_type": "code",
   "execution_count": 70,
   "id": "7dc9f98d-19ec-43db-8ddf-ad9f79216759",
   "metadata": {},
   "outputs": [
    {
     "data": {
      "image/png": "[encoded data removed]",
      "text/plain": [
       "<Figure size 864x324 with 24 Axes>"
      ]
     },
     "metadata": {
      "needs_background": "light"
     },
     "output_type": "display_data"
    }
   ],
   "source": [
    "kernel = np.array ([\n",
    "  [1,0,1],\n",
    "  [1,0,1],\n",
    "  [1,1,1],\n",
    "  [0,0,1],\n",
    "  [0,0,1],\n",
    "],dtype=float)\n",
    "\n",
    "def makeColumn():\n",
    "  plt.subplot(3,cols, col+0*cols); plt.imshow(kernel, vmin=-0.2, vmax=1.2); plt.axis ('off')\n",
    "  plt.subplot(3,cols, col+1*cols); plt.imshow(inputs, vmin=-0.2, vmax=1.2); plt.axis ('off')\n",
    "  plt.subplot(3,cols, col+2*cols); plt.imshow(outputs, vmin=-0.2, vmax=7.2); plt.axis ('off')\n",
    "  \n",
    "cols = 8; col = 1; panelSize=1.5\n",
    "plt.subplots(3,cols, figsize=(cols*panelSize,3*panelSize))\n",
    "plt.subplot(3,cols, 1+0*cols); plt.axis ('off'); plt.text (.5,.5,'Kernel',ha='center')\n",
    "plt.subplot(3,cols, 1+1*cols); plt.axis ('off'); plt.text (.5,.5,'Image',ha='center')\n",
    "plt.subplot(3,cols, 1+2*cols); plt.axis ('off'); plt.text (.5,.5,'Correlation',ha='center')\n",
    "for col in [2]:\n",
    "  inputs = 0.1*rng.standard_normal ([8,8])  # noise\n",
    "  outputs = convolve2d (inputs, kernel, -1, -1)\n",
    "  makeColumn()\n",
    "for col in [3,4,5]:\n",
    "  inputs = 0.1*rng.standard_normal ([8,8])\n",
    "  i0,j0 = rng.integers (0, [8,8], [2])\n",
    "  inputs[i0,j0] += 1           # stamp\n",
    "  outputs = convolve2d (inputs, kernel, -1, -1)\n",
    "  makeColumn()\n",
    "for col in [6,7,8]:\n",
    "  inputs = 0.2*rng.standard_normal ([8,8])  # noise\n",
    "  i0,j0 = rng.integers (0, [4,6], [2])      # shift\n",
    "  inputs[i0:i0+kernel.shape[0], j0:j0+kernel.shape[1]] += kernel           # stamp\n",
    "  outputs = convolve2d (inputs, kernel, -1, -1)\n",
    "  makeColumn()"
   ]
  },
  {
   "cell_type": "markdown",
   "id": "de7149c0-e1b1-45af-94dd-e7cc82f392ff",
   "metadata": {},
   "source": [
    "In the example above, we define a kernel that looks like the numeral \"4\", and see what happens when we convolve it with various images.  Let's examine these from left to right.\n",
    "- The first image is random noise.  The correlation also looks like random noise.\n",
    "- Images 2, 3, and 4 have one bright pixel in a random location.  The correlation contains a pattern in the shape of the letter \"h\".\n",
    "- Images 5, 6, and 7 contain the numeral \"4\" shifted to a random location.  The correlation contains a bright spot indicating at location.\n",
    "\n",
    "If we train a convolutional neural network by showing it lots of images that contain the numeral \"4\", we expect that the pattern \"4\" will eventually become \"imprinted in the memory\" of the network.  In other words, the weight matrix will begin to look like a \"4\".  Due to the translation-invariant nature of convolutions, the network will then be able to recognize the numeral \"4\" *even when it occurs at a different location from its position in any of the training images*!  This is why CNNs are so powerful and are able to generalize."
   ]
  },
  {
   "cell_type": "markdown",
   "id": "80168ac7-24a7-47b0-b481-0d5c1030766d",
   "metadata": {
    "tags": []
   },
   "source": [
    "---\n",
    "### 6.3. Convolutional layers in PyTorch"
   ]
  },
  {
   "cell_type": "markdown",
   "id": "70e5e45d-7185-483a-aeda-3d88aec557c0",
   "metadata": {},
   "source": [
    "The simplest type of convolutional layer implements a convolution as defined above.  For example, one may have a situation where:\n",
    "- The input is an 8x8 array (grayscale image)\n",
    "- The weight matrix is a 5x3 array (representing the kernel)\n",
    "- The output is a 12x10 array.\n",
    "In addition, convolutional layers usually include a bias for each pixel.  In this case:\n",
    "- The bias is a 12x10 array."
   ]
  },
  {
   "cell_type": "markdown",
   "id": "85e3599f-660d-47eb-9696-21dc65065a57",
   "metadata": {},
   "source": [
    "PyTorch provides a class called nn.Conv2d that is powerful but also difficult to understand, because its inputs and outputs are 4th-rank tensors. \n",
    "\n",
    "To help you understand this, consider the CIFAR-10 dataset, which contains 60000 32x32 RGB images.  Suppose we load the entire dataset into memory as an array.  To help ourselves remember the structure of this array, let's call it *xncij*.  Now we may access an element of the array by writing *xncij[n,c,i,j]*, where:\n",
    "- The zeroth index ($n=0,1,2,\\dots,59999$) distinguishes between data instances (training or testing example images).  \n",
    "- The first index ($c=0,1,2$) is the channel index (red, green, or blue).\n",
    "- The second index ($i=0,1,2,\\dots,31$) labels rows of the image.\n",
    "- The third index ($j=0,1,2,\\dots,31$) labels columns of the image.\n",
    "\n",
    "For example, *xncij[54321, 1, 11, 22]* is the value of the GREEN component of the pixel in image 54321 at row 11 and column 22."
   ]
  },
  {
   "cell_type": "markdown",
   "id": "4dde91cc-f342-4d12-b32c-e277d0c6f018",
   "metadata": {},
   "source": [
    "Now, imagine feeding the dataset into a convolutional layer.  Each RGB image can be visualized as a stack of three grayscale images, as shown in the sketch below.  The output can be visualized as another stack of grayscale images, as sketched below:\n",
    "\n",
    "<img src=\"SKETCHES/convlayer.png\" />\n",
    "\n",
    "In the above example, if there had been only one input channel and one output channel, then w would be a 5x5 matrix.  But there are 3 input channels and 7 output channels, so w is a 3x7x5x5 tensor.  To remind ourselves about the shapes of the arrays, we may use the following naming scheme:\n",
    "\n",
    "    xncij[n,c,i,j]       inputs\n",
    "    yncij[n,c,i,j]       outputs\n",
    "    bc[c]                biases\n",
    "    wccij[cOut,cIn,i,j]  weights"
   ]
  },
  {
   "cell_type": "markdown",
   "id": "1572fb14-1830-4eeb-9c32-57dd8389ea35",
   "metadata": {},
   "source": [
    "Below, we demonstrate Conv2d:"
   ]
  },
  {
   "cell_type": "code",
   "execution_count": 71,
   "id": "394cd36c-7422-4591-9f1d-39aa625a4397",
   "metadata": {},
   "outputs": [
    {
     "name": "stderr",
     "output_type": "stream",
     "text": [
      "/tmp/ipykernel_26925/2958929388.py:28: UserWarning: Creating a tensor from a list of numpy.ndarrays is extremely slow. Please consider converting the list to a single numpy.ndarray with numpy.array() before converting to a tensor. (Triggered internally at /opt/conda/conda-bld/pytorch_1666642975993/work/torch/csrc/utils/tensor_new.cpp:230.)\n",
      "  model.weight = nn.Parameter(torch.tensor( [[kernel]] ))\n"
     ]
    },
    {
     "data": {
      "image/png": "[encoded data removed]",
      "text/plain": [
       "<Figure size 864x324 with 24 Axes>"
      ]
     },
     "metadata": {
      "needs_background": "light"
     },
     "output_type": "display_data"
    }
   ],
   "source": [
    "kernel = np.array ([\n",
    "  [1,0,1],\n",
    "  [1,0,1],\n",
    "  [1,1,1],\n",
    "  [0,0,1],\n",
    "  [0,0,1],\n",
    "],dtype=float)\n",
    "\n",
    "xnij = []\n",
    "for iter in range(1):\n",
    "  xij = 0.1*rng.standard_normal ([8,8])      # noise\n",
    "  xnij += [xij]\n",
    "for iter in range(3):\n",
    "  xij = 0.1*rng.standard_normal ([8,8])      # noise\n",
    "  xij[rng.integers(8),rng.integers(8)] += 1  # dot\n",
    "  xnij += [xij]\n",
    "for iter in range(3):\n",
    "  xij = 0.1*rng.standard_normal ([8,8])      # noise\n",
    "  i0,j0 = rng.integers (0, [4,6], [2])       # shift\n",
    "  xij[i0:i0+kernel.shape[0], j0:j0+kernel.shape[1]] += kernel  # stamp\n",
    "  xnij += [xij]\n",
    "  \n",
    "xnij = np.array(xnij)\n",
    "nmax,imax,jmax = xnij.shape\n",
    "\n",
    "model = nn.Conv2d(in_channels=1, out_channels=1, kernel_size=(5,3), padding=(4,2))\n",
    "model.bias   = nn.Parameter(torch.tensor( [0.] , dtype=float ))\n",
    "model.weight = nn.Parameter(torch.tensor( [[kernel]] ))\n",
    "\n",
    "xncij = torch.tensor( xnij.reshape(nmax, 1, imax, jmax))\n",
    "\n",
    "Yncij = model(xncij).detach().numpy()\n",
    "Ynij = Yncij.squeeze()                     # get rid of the channel dimension\n",
    "\n",
    "cols = nmax+1 ; rows = 3\n",
    "plt.subplots(rows,cols, figsize=(cols*panelSize,3*panelSize))\n",
    "plt.subplot(rows,cols, 1+0*cols); plt.axis ('off'); plt.text (.5,.5,'Kernel',ha='center')\n",
    "plt.subplot(rows,cols, 1+1*cols); plt.axis ('off'); plt.text (.5,.5,'Image',ha='center')\n",
    "plt.subplot(rows,cols, 1+2*cols); plt.axis ('off'); plt.text (.5,.5,'Correlation',ha='center')\n",
    "for n in range(nmax):\n",
    "  plt.subplot(rows,cols, 1+0*cols+1+n); plt.imshow(kernel, vmin=-0.2, vmax=1.2); plt.axis ('off')\n",
    "  plt.subplot(rows,cols, 1+1*cols+1+n); plt.imshow(xnij[n], vmin=-0.2, vmax=1.2); plt.axis ('off')\n",
    "  plt.subplot(rows,cols, 1+2*cols+1+n); plt.imshow(Ynij[n], vmin=-0.2, vmax=7.2); plt.axis ('off')"
   ]
  },
  {
   "cell_type": "code",
   "execution_count": null,
   "id": "00c1ca46-3d9c-4003-b5b0-6768db459f15",
   "metadata": {},
   "outputs": [],
   "source": []
  }
 ],
 "metadata": {
  "kernelspec": {
   "display_name": "Python 3 (ipykernel)",
   "language": "python",
   "name": "python3"
  },
  "language_info": {
   "codemirror_mode": {
    "name": "ipython",
    "version": 3
   },
   "file_extension": ".py",
   "mimetype": "text/x-python",
   "name": "python",
   "nbconvert_exporter": "python",
   "pygments_lexer": "ipython3",
   "version": "3.9.12"
  }
 },
 "nbformat": 4,
 "nbformat_minor": 5
}
