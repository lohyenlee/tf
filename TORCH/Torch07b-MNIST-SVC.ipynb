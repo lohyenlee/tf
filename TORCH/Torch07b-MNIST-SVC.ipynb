{
 "cells": [
  {
   "cell_type": "markdown",
   "id": "1b08904e-e3ba-4a6e-afd8-19fbda0e15cd",
   "metadata": {},
   "source": [
    "# Neural Networks in PyTorch\n",
    "## Part 7b: A support vector classifier implemented as a neural network\n",
    "*Yen Lee Loh, 2021-9-8, 2022-11-23*"
   ]
  },
  {
   "cell_type": "markdown",
   "id": "e2a21ce8-4036-451c-a285-ff8b4a15c603",
   "metadata": {
    "jp-MarkdownHeadingCollapsed": true,
    "tags": []
   },
   "source": [
    "---\n",
    "## 1. Setup"
   ]
  },
  {
   "cell_type": "code",
   "execution_count": 89,
   "id": "ade97b68-779f-40e4-a147-cdc34f1565bf",
   "metadata": {},
   "outputs": [],
   "source": [
    "import numpy as np\n",
    "import matplotlib.pyplot as plt\n",
    "import torch\n",
    "from torch import nn        # import torch.nn as nn\n",
    "import torchvision.datasets # In functional.py: patch PILLOW_VERSION--> __version__\n",
    "import torchvision.transforms\n",
    "#import time\n",
    "from collections.abc import Iterable\n",
    "rng = np.random.default_rng()\n",
    "np.set_printoptions (linewidth=300)\n",
    "#plt.rcParams.update ({'font.family':'monospace', 'font.size':11})\n",
    "plt.rcParams.update ({'font.family':'serif', 'font.size':13})\n",
    "\n",
    "\n",
    "def gallery(xnij, cmap='viridis', labels=None, size=1):  # size is in inches\n",
    "  '''\n",
    "  gallery(xnij)\n",
    "  \n",
    "      Display an array of grayscale images.\n",
    "  '''\n",
    "  nmax = len(xnij)\n",
    "  cols = min(20,nmax) ; rows = (nmax+cols-1)//cols\n",
    "  wspace = 0.02 ; hspace = 0.02\n",
    "  if isinstance (labels, Iterable) or labels!=None:   # if user has supplied labels\n",
    "    hspace = .35\n",
    "    \n",
    "  fig,axs = plt.subplots (rows,cols, figsize=(cols*size*(1+wspace),rows*size*(1+hspace)), gridspec_kw={'wspace':wspace,'hspace':hspace})\n",
    "  if nmax==1: axs = np.array([[axs]])\n",
    "  axs = axs.flatten()\n",
    "  for ax in axs:\n",
    "      ax.axis ('off')\n",
    "  for n in range(nmax):\n",
    "      ax = axs[n]\n",
    "      if isinstance (cmap, Iterable) and not isinstance (cmap, str):\n",
    "        c = cmap[n]\n",
    "      else:\n",
    "        c = cmap\n",
    "      ax.imshow (xnij[n], cmap=c)\n",
    "      ax.set_aspect('equal')\n",
    "      if isinstance (labels, Iterable):\n",
    "        ax.set_title (str(labels[n]))\n",
    "\n",
    "def metrics (Yn, yn):\n",
    "  '''\n",
    "  totalExamples,misclassifiedExamples,confusionMatrix = metrics (modelOutputs, trueOutputs)\n",
    "  \n",
    "      This function accepts a set of model outputs (predictions) and a set of training outputs (labels).\n",
    "      It returns various integers.  It's easiest to understand this by seeing an example.\n",
    "  '''\n",
    "  nmax = len(yn)\n",
    "  ymax = max(yn)+1\n",
    "  confmat = np.zeros ([ymax, ymax], dtype=int)   # confmat[Y][y]\n",
    "  for n in range(nmax): confmat[yn[n], Yn[n]] += 1\n",
    "  ntot = np.sum(confmat)\n",
    "  nerr = ntot - np.trace(confmat)\n",
    "  return ntot,nerr,confmat\n",
    "\n",
    "def select (inputs, outputs, classes, nT, nV, shuffle=False):\n",
    "  '''\n",
    "  xT,yT,xV,yV = select (MNISTinputs, MNISToutputs, [5,6,8], [100,100,100], [200,200,200])\n",
    "\n",
    "      Given a set of inputs and outputs, \n",
    "      construct a training set consisting of the first 100 5's, 100 6's, 100 8's, \n",
    "      and a validation set consisting of the next 200 5's, 200 6's, and 200 8's.\n",
    "      If the original set has fewer than 300 5's, 6's, or 7's, raise an exception.\n",
    "  '''\n",
    "  assert len(classes) == len(nT) and len(nT) == len(nV)\n",
    "  allT = []\n",
    "  allV = []\n",
    "  for k in range(len(classes)):\n",
    "    indices, = np.where(outputs==classes[k])\n",
    "    ntot = len(indices)\n",
    "    indices = rng.choice (indices, nT[k] + nV[k], False)    # randomly choose 300\n",
    "    indicesT,indicesV = np.split (indices, [nT[k]])\n",
    "    allT += indicesT.tolist()\n",
    "    allV += indicesV.tolist()\n",
    "    print ('For class {}, given {} examples, we chose {} for training and {} for validation. '.format(classes[k], ntot, len(indicesT), len(indicesV)))\n",
    "  if shuffle:\n",
    "    rng.shuffle (allT)\n",
    "    rng.shuffle (allV)\n",
    "  return inputs[allT], outputs[allT], inputs[allV], outputs[allV]\n",
    "\n",
    "\n",
    "\n",
    "def train(xnd, ynd, model, lossFunc, epochs=10000, learningRate=0.01, lossTarget=0.0001, reportInterval=1000):\n",
    "  '''\n",
    "  train (xnd, ynd, model, lossFunc, epochs=10000, learningRate=0.01, lossTarget=0.0001, reportInterval=1000)\n",
    "\n",
    "      xnd      a torch.Tensor representing N training inputs (which are D-vectors)\n",
    "      ynd      a torch.Tensor representing N training outputs (usually 1-vectors)\n",
    "      model    a nn.Module that accepts a set of inputs and returns a set of outputs\n",
    "      lossFunc a \n",
    "      and a validation set consisting of the next 200 5's, 200 6's, and 200 8's.\n",
    "      If the original set has fewer than 300 5's, 6's, or 7's, raise an exception.\n",
    "  '''\n",
    "  optimizer = torch.optim.Adam(model.parameters(), lr=learningRate)\n",
    "  model.train()                  # put model in training mode\n",
    "  for t in range(epochs):      # t is the epoch number\n",
    "    Ynd = model(xnd)             # uppercase Y = model prediction\n",
    "    loss = lossFunc(Ynd,ynd)\n",
    "    loss.backward()\n",
    "    optimizer.step()\n",
    "    optimizer.zero_grad()\n",
    "    if t % reportInterval == 0 or t==epochs:\n",
    "      F = loss.item()\n",
    "      print('Training epoch {}/{}  \\t Loss = {:.4f}'.format(t, epochs, F))\n",
    "      if F < lossTarget:\n",
    "        print('Training epoch {}/{}  \\t Loss = {:.4f} < lossTarget\\n'.format(t, epochs, F))\n",
    "        return\n",
    "  print ('Warning: loss > lossTarget!\\n')"
   ]
  },
  {
   "cell_type": "code",
   "execution_count": 90,
   "id": "026e5586-4900-439b-bd50-3ca05c94016d",
   "metadata": {},
   "outputs": [],
   "source": [
    "#================ DOWNLOAD THE MNIST-TRAIN DATASET, WHICH CONTAINS 60000 HANDWRITTEN DIGITS\n",
    "dataset = torchvision.datasets.MNIST('MNIST-TRAIN', download=True, train=True, transform=torchvision.transforms.ToTensor())\n",
    "loader = torch.utils.data.DataLoader(dataset, batch_size=70000, shuffle=False)\n",
    "iterator = iter(loader)\n",
    "inputs,outputs = next(iterator)  # new PyTorch syntax; old syntax was iterator.next()\n",
    "inputs = inputs.squeeze()        # get rid of unnecessary dimension"
   ]
  },
  {
   "cell_type": "code",
   "execution_count": 91,
   "id": "406842e9-1f31-4716-9fe2-c21d454433a6",
   "metadata": {},
   "outputs": [
    {
     "name": "stdout",
     "output_type": "stream",
     "text": [
      "torch.cuda.is_available() = True\n"
     ]
    }
   ],
   "source": [
    "print (\"torch.cuda.is_available() =\", torch.cuda.is_available())"
   ]
  },
  {
   "cell_type": "markdown",
   "id": "59be3188-a04d-4ba8-8e20-cc0248c4e618",
   "metadata": {
    "tags": []
   },
   "source": [
    "---\n",
    "## 2. Load a digit pair from the MNIST dataset"
   ]
  },
  {
   "cell_type": "code",
   "execution_count": 127,
   "id": "f8fabab7-153d-4914-83b1-bf079dc20ce9",
   "metadata": {},
   "outputs": [
    {
     "name": "stdout",
     "output_type": "stream",
     "text": [
      "For class 6, given 5918 examples, we chose 2500 for training and 2500 for validation. \n",
      "For class 9, given 5949 examples, we chose 2500 for training and 2500 for validation. \n"
     ]
    }
   ],
   "source": [
    "class0,class1 = 6,9     #3,8     #1,5\n",
    "xnijT,ynT,xnijV,ynV = select (inputs, outputs, [class0,class1], [2500,2500], [2500,2500], shuffle=True) \n",
    "xndT = xnijT.flatten (1,-1) ; yndT = (ynT.reshape (-1,1) - class0) / (class1-class0)\n",
    "xndV = xnijV.flatten (1,-1) ; yndV = (ynV.reshape (-1,1) - class0) / (class1-class0)\n",
    "_,imax,jmax = xnijT.shape\n",
    "_,dmax = xndT.shape"
   ]
  },
  {
   "cell_type": "markdown",
   "id": "b593e67f-3c2a-412f-b1e4-1eea54e737a6",
   "metadata": {
    "tags": []
   },
   "source": [
    "---\n",
    "## 3. Train SVC"
   ]
  },
  {
   "cell_type": "markdown",
   "id": "2e763295-90b6-43e1-880b-fc1c5f692878",
   "metadata": {},
   "source": [
    "We may implement a support vector classifier as a PyTorch neural network as follows.  \n",
    "- Suppose we are given an input vector $\\underline{\\mathbf{x}}$ and an output label $y=\\pm 1$.\n",
    "- The linear predictor is $u = \\underline{\\mathbf{w}} \\cdot \\underline{\\mathbf{x}} + b$.\n",
    "- We will consider the output of the SVC to be $Y = u$.\n",
    "- The decision function of the SVC is $Y_\\text{mp} = \\text{sgn} u$.\n",
    "- The loss function is $F=\\text{ReLU}(1-yY)$.\n",
    "\n",
    "There are a couple of quirks to watch out for:\n",
    "- When constructing the training outputs we have used the convention that $y\\in \\{0,1\\}$.\n",
    "- Therefore, in our implementation, the loss function should actually be $F=\\text{ReLU} \\big( 1-(2y-1)Y \\big)$.\n",
    "- To keep things general, we actually work with 1-dimensional tensors $\\{y_d\\}$ and $\\{Y_d\\}$.  We need to sum over the $d$ index to get a scalar.\n",
    "  In other words, $F=\\text{ReLU} \\big( 1 -  \\sum_{d=1}^1  (2y_d-1)Y_d \\big)$.\n",
    "- When operating on a batch of data, the loss function should be summed over data items as $F=\\sum_n \\text{ReLU} \\big( 1-(2y_n-1)Y_n \\big)$.\n",
    "- Putting everything together, the loss function should be $F=\\sum_n \\text{ReLU} \\big( 1- \\sum_{d=1}^1 (2y_n-1)Y_n \\big)$.\n",
    "- The decision function should be $Y_\\text{mp} = (\\text{sgn} u + 1)/2$, so that $Y_\\text{mp} \\in \\{0,1\\}$.\n",
    "\n",
    "We can implement the model and loss function very easily using PyTorch's building blocks:"
   ]
  },
  {
   "cell_type": "code",
   "execution_count": 128,
   "id": "bc89ee23-44e7-4c8d-8ab3-93c7b5f99841",
   "metadata": {},
   "outputs": [
    {
     "name": "stdout",
     "output_type": "stream",
     "text": [
      "Training epoch 0/10000  \t Loss = 5118.7090\n",
      "Training epoch 1000/10000  \t Loss = 0.0000\n",
      "Training epoch 1000/10000  \t Loss = 0.0000 < lossTarget\n",
      "\n"
     ]
    }
   ],
   "source": [
    "#================ TRAIN SVC ON CPU\n",
    "model    = nn.Linear(dmax,1)\n",
    "lossFunc = lambda Ynd, ynd: nn.functional.relu (1 - torch.sum((2*ynd-1) * Ynd, axis=1) ).sum()\n",
    "train (xndT, yndT, model, lossFunc, learningRate=0.1, reportInterval=1000)"
   ]
  },
  {
   "cell_type": "code",
   "execution_count": 147,
   "id": "d3b57e26-7d4e-4c0e-aaa1-20d7ef88f870",
   "metadata": {},
   "outputs": [
    {
     "data": {
      "text/plain": [
       "<matplotlib.image.AxesImage at 0x7fc974b56fd0>"
      ]
     },
     "execution_count": 147,
     "metadata": {},
     "output_type": "execute_result"
    },
    {
     "data": {
      "image/png": "[encoded data removed]",
      "text/plain": [
       "<Figure size 432x288 with 1 Axes>"
      ]
     },
     "metadata": {
      "needs_background": "light"
     },
     "output_type": "display_data"
    }
   ],
   "source": [
    "plt.imshow (model.weight.reshape (28,28).detach())"
   ]
  },
  {
   "cell_type": "code",
   "execution_count": 146,
   "id": "cb74eb5b-9575-45f9-8ddf-22262f74c65f",
   "metadata": {},
   "outputs": [
    {
     "name": "stdout",
     "output_type": "stream",
     "text": [
      "Linear predictor u=-9.56    Model prediction Y=0  Label y=0  Loss F=0.0         \n",
      "Linear predictor u=+27.38   Model prediction Y=1  Label y=1  Loss F=0.0         \n",
      "Linear predictor u=+22.99   Model prediction Y=1  Label y=1  Loss F=0.0         \n",
      "Linear predictor u=+35.59   Model prediction Y=1  Label y=1  Loss F=0.0         \n",
      "Linear predictor u=+24.26   Model prediction Y=1  Label y=1  Loss F=0.0         \n",
      "Linear predictor u=+16.77   Model prediction Y=1  Label y=1  Loss F=0.0         \n",
      "Linear predictor u=-30.23   Model prediction Y=0  Label y=0  Loss F=0.0         \n",
      "Linear predictor u=-11.72   Model prediction Y=0  Label y=0  Loss F=0.0         \n",
      "Linear predictor u=+12.20   Model prediction Y=1  Label y=1  Loss F=0.0         \n",
      "Linear predictor u=-25.12   Model prediction Y=0  Label y=0  Loss F=0.0         \n"
     ]
    }
   ],
   "source": [
    "for n in range(10):\n",
    "  Y = model (xndT[n:n+1])\n",
    "  y = yndT[n:n+1]\n",
    "  print ('Linear predictor u={:<+8.2f} Model prediction Y={:.0f}  Label y={:.0f}  Loss F={:<12.4}'.format(Y.item(), torch.sign(Y).item()/2+1/2, y.item(), lossFunc (Y, y)    ))"
   ]
  },
  {
   "cell_type": "code",
   "execution_count": 140,
   "id": "692dab32-9ea1-4ad9-8c69-19085a858206",
   "metadata": {},
   "outputs": [
    {
     "name": "stdout",
     "output_type": "stream",
     "text": [
      "Training error   =    0/5000 =  0.0%    Confusion matrix = [[2500, 0], [0, 2500]]\n",
      "Validation error =   25/5000 =  0.5%    Confusion matrix = [[2491, 9], [16, 2484]]\n"
     ]
    }
   ],
   "source": [
    "#================ EVALUATE ACCURACY FOR BOTH TRAINING AND VALIDATION SETS\n",
    "model.eval()             # choose evaluation mode\n",
    "YndT = model(xndT).sign()/2+1/2\n",
    "YndV = model(xndV).sign()/2+1/2\n",
    "YnT = YndT.detach().numpy().round().flatten().astype(int)  # round to either 0 or 1\n",
    "ynT = yndT.detach().numpy().flatten().astype(int)          # this is already an integer\n",
    "YnV = YndV.detach().numpy().round().flatten().astype(int)  # round to either 0 or 1\n",
    "ynV = yndV.detach().numpy().flatten().astype(int)          # this is already an integer\n",
    "\n",
    "ntot,nerr,Cnn = metrics (YnT, ynT)\n",
    "print(\"Training error   = {:4d}/{:} = {:4.1f}%    Confusion matrix = {}\".format (nerr, ntot, 100*nerr/ntot, Cnn.tolist()))\n",
    "ntot,nerr,Cnn = metrics (YnV, ynV)\n",
    "print(\"Validation error = {:4d}/{:} = {:4.1f}%    Confusion matrix = {}\".format (nerr, ntot, 100*nerr/ntot, Cnn.tolist()))\n"
   ]
  }
 ],
 "metadata": {
  "kernelspec": {
   "display_name": "Python 3 (ipykernel)",
   "language": "python",
   "name": "python3"
  },
  "language_info": {
   "codemirror_mode": {
    "name": "ipython",
    "version": 3
   },
   "file_extension": ".py",
   "mimetype": "text/x-python",
   "name": "python",
   "nbconvert_exporter": "python",
   "pygments_lexer": "ipython3",
   "version": "3.9.12"
  }
 },
 "nbformat": 4,
 "nbformat_minor": 5
}
