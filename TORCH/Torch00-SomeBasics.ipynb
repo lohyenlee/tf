{
 "cells": [
  {
   "cell_type": "markdown",
   "id": "87609550-5469-42e9-9bda-24378616d02f",
   "metadata": {},
   "source": [
    "# Neural Networks in PyTorch\n",
    "## Chapter 1: Neural Network Layers\n",
    "*Yen Lee Loh, 2021-9-1; 2022-9-22*\n",
    "\n",
    "In this Jupyter Lab notebook we demonstrate elementwise layers, linear layers, loss functions, pooling layers, and convolution layers."
   ]
  },
  {
   "cell_type": "markdown",
   "id": "ea7e3fa2-f789-407c-af2c-f739505c0264",
   "metadata": {
    "tags": []
   },
   "source": [
    "---\n",
    "## 0.  Setup"
   ]
  },
  {
   "cell_type": "code",
   "execution_count": 1,
   "id": "3aef155d-580e-4294-a1ed-4fdc91c370bd",
   "metadata": {},
   "outputs": [],
   "source": [
    "import numpy as np\n",
    "import torch\n",
    "import torch.nn as nn\n",
    "import matplotlib.pyplot as plt\n",
    "rng = np.random.default_rng()\n",
    "plt.rcParams.update ({'font.family':'serif', 'font.size':14})"
   ]
  },
  {
   "cell_type": "markdown",
   "id": "4abe5d02-5af3-46ca-9e5b-03d2116806a4",
   "metadata": {
    "tags": []
   },
   "source": [
    "---\n",
    "## 1. Some stuff"
   ]
  },
  {
   "cell_type": "markdown",
   "id": "95e0782f-f961-45ea-aa67-813ee1599b88",
   "metadata": {},
   "source": [
    "Many array-like (container) data types in Python \n",
    "- some built-in to the language\n",
    "- some are provided by external libraries, e.g., numpy, torch\n",
    "\n",
    "        dict    \n",
    "        set      s = {1,2,3}      (curly braces)\n",
    "        tuple    t = (1,2,3)      (round parentheses)\n",
    "        list     l = [1,2,3]      (square brackets)           - no. 2 choice\n",
    "        \n",
    "        numpy.ndarray   a = np.array ([[1,2,3],[4,5,6]])      - no. 1 choice\n",
    "        torch.Tensor    a = torch.Tensor ([[1,2,3],[4,5,6]])      - no. 3 choice\n",
    "\n",
    "Most PyTorch tensors and functions behave very much like the corresponding things in NumPy."
   ]
  },
  {
   "cell_type": "code",
   "execution_count": 4,
   "id": "2c4e13d4-b361-4c19-98c0-b348d02033b0",
   "metadata": {},
   "outputs": [],
   "source": [
    "l=[1,2,3]"
   ]
  },
  {
   "cell_type": "code",
   "execution_count": 18,
   "id": "7ffa0c88-6234-4d6a-b4a4-d444b232cf7a",
   "metadata": {},
   "outputs": [],
   "source": [
    "a = np.array ([[1,2.,3],[4,5,6]])"
   ]
  },
  {
   "cell_type": "code",
   "execution_count": 14,
   "id": "5f04228d-9f62-4c37-942b-7ac548c97454",
   "metadata": {},
   "outputs": [],
   "source": [
    "b = torch.Tensor ([[1,2,3],[4,5,6]])"
   ]
  },
  {
   "cell_type": "code",
   "execution_count": 24,
   "id": "e7daa530-a7ee-4cdd-a812-bb4eb8902423",
   "metadata": {},
   "outputs": [
    {
     "data": {
      "text/plain": [
       "numpy.ndarray"
      ]
     },
     "execution_count": 24,
     "metadata": {},
     "output_type": "execute_result"
    }
   ],
   "source": [
    "type(a)"
   ]
  },
  {
   "cell_type": "code",
   "execution_count": 21,
   "id": "80b38940-7212-40ea-bd63-b1796c4c608e",
   "metadata": {},
   "outputs": [
    {
     "data": {
      "text/plain": [
       "dtype('float64')"
      ]
     },
     "execution_count": 21,
     "metadata": {},
     "output_type": "execute_result"
    }
   ],
   "source": [
    "a.dtype"
   ]
  },
  {
   "cell_type": "code",
   "execution_count": 26,
   "id": "c227f4b9-9b30-4b2b-955b-f83f6a234505",
   "metadata": {},
   "outputs": [
    {
     "data": {
      "text/plain": [
       "2"
      ]
     },
     "execution_count": 26,
     "metadata": {},
     "output_type": "execute_result"
    }
   ],
   "source": [
    "len(a)"
   ]
  },
  {
   "cell_type": "code",
   "execution_count": 27,
   "id": "3bc485dc-6adc-49bf-ad41-fd5c8908c0b8",
   "metadata": {},
   "outputs": [
    {
     "data": {
      "text/plain": [
       "(2, 3)"
      ]
     },
     "execution_count": 27,
     "metadata": {},
     "output_type": "execute_result"
    }
   ],
   "source": [
    "a.shape"
   ]
  },
  {
   "cell_type": "code",
   "execution_count": 28,
   "id": "8e091e07-46a9-4165-b8eb-857fce82b4d8",
   "metadata": {},
   "outputs": [
    {
     "data": {
      "text/plain": [
       "6"
      ]
     },
     "execution_count": 28,
     "metadata": {},
     "output_type": "execute_result"
    }
   ],
   "source": [
    "a.size"
   ]
  },
  {
   "cell_type": "code",
   "execution_count": 19,
   "id": "1bf068da-97fd-463a-95ab-99363a7715f1",
   "metadata": {},
   "outputs": [
    {
     "data": {
      "text/plain": [
       "array([[1., 2., 3.],\n",
       "       [4., 5., 6.]])"
      ]
     },
     "execution_count": 19,
     "metadata": {},
     "output_type": "execute_result"
    }
   ],
   "source": [
    "a"
   ]
  },
  {
   "cell_type": "code",
   "execution_count": 20,
   "id": "80369a3e-35d8-4ba6-907d-75854733a389",
   "metadata": {},
   "outputs": [
    {
     "data": {
      "text/plain": [
       "6.0"
      ]
     },
     "execution_count": 20,
     "metadata": {},
     "output_type": "execute_result"
    }
   ],
   "source": [
    "a[1,2]   # element of array a in row 1 and column 2 (counting from 0!)"
   ]
  },
  {
   "cell_type": "code",
   "execution_count": 17,
   "id": "ba4495d7-42b0-412d-9306-d3b1f213f974",
   "metadata": {},
   "outputs": [
    {
     "data": {
      "text/plain": [
       "tensor([[1., 2., 3.],\n",
       "        [4., 5., 6.]])"
      ]
     },
     "execution_count": 17,
     "metadata": {},
     "output_type": "execute_result"
    }
   ],
   "source": [
    "b"
   ]
  },
  {
   "cell_type": "code",
   "execution_count": 29,
   "id": "732999bd-ef4d-4017-a1e7-506d7fb58828",
   "metadata": {},
   "outputs": [
    {
     "data": {
      "text/plain": [
       "tensor(6.)"
      ]
     },
     "execution_count": 29,
     "metadata": {},
     "output_type": "execute_result"
    }
   ],
   "source": [
    "b[1,2]"
   ]
  },
  {
   "cell_type": "code",
   "execution_count": 30,
   "id": "0eb26b80-99f7-4f55-90ce-cf4cae60850d",
   "metadata": {},
   "outputs": [
    {
     "data": {
      "text/plain": [
       "torch.Size([2, 3])"
      ]
     },
     "execution_count": 30,
     "metadata": {},
     "output_type": "execute_result"
    }
   ],
   "source": [
    "b.shape"
   ]
  },
  {
   "cell_type": "markdown",
   "id": "e148826c-2796-4b45-9d9a-a638f0512247",
   "metadata": {},
   "source": [
    "You can interconvert between list, array, and Tensor."
   ]
  },
  {
   "cell_type": "code",
   "execution_count": 53,
   "id": "b759f018-af73-431f-a760-f139f90487ee",
   "metadata": {},
   "outputs": [
    {
     "name": "stdout",
     "output_type": "stream",
     "text": [
      "l = [1.0, 2.0, 3.0]\n",
      "a = [1. 2. 3.]\n"
     ]
    }
   ],
   "source": [
    "l = [1,2,3]\n",
    "\n",
    "a = np.array(l)     # convert list to numpy.array\n",
    "l = list(a)         # convert numpy.array to list\n",
    "l = a.tolist()      # convert numpy.array to list\n",
    "\n",
    "b = torch.Tensor(l) # convert list to torch.Tensor\n",
    "l = b.tolist()\n",
    "print ('l =', l)    # convert torch.Tensor to list\n",
    "\n",
    "b = torch.Tensor(a) # convert numpy.array to torch.Tensor\n",
    "a = np.array(b)     # convert torch.Tensor to numpy.array\n",
    "a = b.numpy()       # convert torch.Tensor to numpy.array\n",
    "#print ('b =', b)\n",
    "print ('a =', a)\n"
   ]
  },
  {
   "cell_type": "code",
   "execution_count": 54,
   "id": "2cc971b7-0d21-4f28-bd97-64eb8a878ffe",
   "metadata": {},
   "outputs": [
    {
     "data": {
      "text/plain": [
       "array([1., 2., 3.], dtype=float32)"
      ]
     },
     "execution_count": 54,
     "metadata": {},
     "output_type": "execute_result"
    }
   ],
   "source": [
    "a"
   ]
  },
  {
   "cell_type": "code",
   "execution_count": 40,
   "id": "5e3b6511-658a-4044-9218-d72c0b0fe418",
   "metadata": {},
   "outputs": [
    {
     "data": {
      "text/plain": [
       "array([1, 2, 3])"
      ]
     },
     "execution_count": 40,
     "metadata": {},
     "output_type": "execute_result"
    }
   ],
   "source": [
    "a"
   ]
  },
  {
   "cell_type": "code",
   "execution_count": 41,
   "id": "36bf8db9-9cef-40c1-854a-aa23a86e25b8",
   "metadata": {},
   "outputs": [
    {
     "data": {
      "text/plain": [
       "[1, 2, 3]"
      ]
     },
     "execution_count": 41,
     "metadata": {},
     "output_type": "execute_result"
    }
   ],
   "source": [
    "l"
   ]
  },
  {
   "cell_type": "code",
   "execution_count": null,
   "id": "c8b53d0f-c84c-41ed-89d8-3eebd2f7be84",
   "metadata": {},
   "outputs": [],
   "source": []
  }
 ],
 "metadata": {
  "kernelspec": {
   "display_name": "Python 3 (ipykernel)",
   "language": "python",
   "name": "python3"
  },
  "language_info": {
   "codemirror_mode": {
    "name": "ipython",
    "version": 3
   },
   "file_extension": ".py",
   "mimetype": "text/x-python",
   "name": "python",
   "nbconvert_exporter": "python",
   "pygments_lexer": "ipython3",
   "version": "3.9.12"
  }
 },
 "nbformat": 4,
 "nbformat_minor": 5
}
