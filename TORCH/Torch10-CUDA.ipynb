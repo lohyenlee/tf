{
 "cells": [
  {
   "cell_type": "markdown",
   "id": "1b08904e-e3ba-4a6e-afd8-19fbda0e15cd",
   "metadata": {},
   "source": [
    "# Neural Networks in PyTorch\n",
    "## Part 10: Using CUDA on GPUs\n",
    "*Yen Lee Loh, 2021-9-8, 2022-11-23*\n",
    "\n",
    "Training neural networks involves tensor operations that can be implemented efficiently on GPUs.  In this notebook we show:\n",
    "- how to construct tensors on the CPU and GPU\n",
    "- how to transfer data between the CPU and GPU\n",
    "- the GPU is significantly faster."
   ]
  },
  {
   "cell_type": "markdown",
   "id": "e2a21ce8-4036-451c-a285-ff8b4a15c603",
   "metadata": {
    "tags": []
   },
   "source": [
    "---\n",
    "## 1. Setup"
   ]
  },
  {
   "cell_type": "code",
   "execution_count": 1,
   "id": "406842e9-1f31-4716-9fe2-c21d454433a6",
   "metadata": {},
   "outputs": [
    {
     "name": "stdout",
     "output_type": "stream",
     "text": [
      "torch.cuda.is_available() = True\n"
     ]
    }
   ],
   "source": [
    "import numpy as np\n",
    "import matplotlib.pyplot as plt\n",
    "import time\n",
    "import torch\n",
    "from torch import nn\n",
    "def whatis(a): print(\"a.device =\", a.device, \" \\ta =\", a.tolist())\n",
    "print (\"torch.cuda.is_available() =\", torch.cuda.is_available())"
   ]
  },
  {
   "cell_type": "code",
   "execution_count": 7,
   "id": "b71213aa-04be-4cbd-8a37-4f2a094bee93",
   "metadata": {},
   "outputs": [
    {
     "data": {
      "text/plain": [
       "'11.7'"
      ]
     },
     "execution_count": 7,
     "metadata": {},
     "output_type": "execute_result"
    }
   ],
   "source": [
    "torch.version.cuda"
   ]
  },
  {
   "cell_type": "markdown",
   "id": "0ee56e3e-36d4-4aec-8ab4-1959bdf8e197",
   "metadata": {
    "tags": []
   },
   "source": [
    "---\n",
    "## 2. Simple demo of CPU and GPU usage"
   ]
  },
  {
   "cell_type": "code",
   "execution_count": 2,
   "id": "653e8966-b444-42f9-aec8-323118b6fd26",
   "metadata": {},
   "outputs": [
    {
     "name": "stdout",
     "output_type": "stream",
     "text": [
      "a.device = cpu  \ta = [[1, 2], [3, 4]]\n",
      "a.device = cpu  \ta = [[5, 6], [7, 8]]\n",
      "a.device = cuda:0  \ta = [[1, 2], [3, 4]]\n",
      "a.device = cuda:0  \ta = [[5, 6], [7, 8]]\n",
      "a.device = cuda:0  \ta = [[6, 8], [10, 12]]\n",
      "a.device = cpu  \ta = [[6, 8], [10, 12]]\n"
     ]
    }
   ],
   "source": [
    "a = torch.tensor([[1,2],[3,4]], device='cpu')   # create tensor on CPU\n",
    "b = torch.tensor([[5,6],[7,8]], device='cpu')\n",
    "A = a.cuda()  # transfer to GPU (\"upload\")\n",
    "B = b.cuda()\n",
    "C = A + B     # add tensors on GPU\n",
    "c = C.cpu()   # transfer back to CPU (\"download\")\n",
    "whatis (a)    # print everything\n",
    "whatis (b)\n",
    "whatis (A)\n",
    "whatis (B)\n",
    "whatis (C)\n",
    "whatis (c)"
   ]
  },
  {
   "cell_type": "code",
   "execution_count": 3,
   "id": "219f4922-3928-44af-8133-73c56193928a",
   "metadata": {},
   "outputs": [
    {
     "ename": "RuntimeError",
     "evalue": "Expected all tensors to be on the same device, but found at least two devices, cuda:0 and cpu!",
     "output_type": "error",
     "traceback": [
      "\u001b[0;31m---------------------------------------------------------------------------\u001b[0m",
      "\u001b[0;31mRuntimeError\u001b[0m                              Traceback (most recent call last)",
      "Input \u001b[0;32mIn [3]\u001b[0m, in \u001b[0;36m<cell line: 2>\u001b[0;34m()\u001b[0m\n\u001b[1;32m      1\u001b[0m \u001b[38;5;66;03m#======== YOU CANNOT ADD A CPU TENSOR TO A GPU TENSOR DIRECTLY!\u001b[39;00m\n\u001b[0;32m----> 2\u001b[0m \u001b[43mA\u001b[49m\u001b[43m \u001b[49m\u001b[38;5;241;43m+\u001b[39;49m\u001b[43m \u001b[49m\u001b[43mb\u001b[49m\n",
      "\u001b[0;31mRuntimeError\u001b[0m: Expected all tensors to be on the same device, but found at least two devices, cuda:0 and cpu!"
     ]
    }
   ],
   "source": [
    "#======== YOU CANNOT ADD A CPU TENSOR TO A GPU TENSOR DIRECTLY!\n",
    "A + b"
   ]
  },
  {
   "cell_type": "markdown",
   "id": "cedd2caa-edd5-44df-9dde-9b07433c06e3",
   "metadata": {
    "jp-MarkdownHeadingCollapsed": true,
    "tags": []
   },
   "source": [
    "---\n",
    "## 3. Benchmark for speed and accuracy"
   ]
  },
  {
   "cell_type": "markdown",
   "id": "b5955450-ae77-455d-b827-cf0d13d2e51a",
   "metadata": {},
   "source": [
    "Construct a large matrix $\\mathbf{a}$ with normally distributed elements.  Computes $\\mathbf{b} = \\mathbf{a}\\cdot \\mathbf{a}$ and $c = \\sum_{ij} b_{ij}$ using the CPU.  Then retry the calculation using the GPU:"
   ]
  },
  {
   "cell_type": "code",
   "execution_count": null,
   "id": "897d4985-9d45-44ff-8f7f-2906ed11e039",
   "metadata": {},
   "outputs": [],
   "source": [
    "#======== CPU\n",
    "torchRNG = torch.Generator()\n",
    "torchRNG.manual_seed(1234567)\n",
    "a = torch.randn([16384,16384], generator=torchRNG, device='cpu')\n",
    "\n",
    "tBegin = time.time()\n",
    "b = torch.matmul (a, a)\n",
    "c = torch.sum (b)\n",
    "tEnd = time.time()\n",
    "tElapsed = tEnd - tBegin\n",
    "\n",
    "print ('CPU result = {}'.format(c), ' \\ttime taken = {:.3} seconds'.format(tElapsed))"
   ]
  },
  {
   "cell_type": "code",
   "execution_count": 35,
   "id": "461eff75-7bfa-4259-8174-0c172de96d3f",
   "metadata": {},
   "outputs": [
    {
     "name": "stdout",
     "output_type": "stream",
     "text": [
      "Time taken to upload to GPU = 0.124 seconds\n",
      "Time taken for GPU computation = 0.000396 seconds\n",
      "Time taken to download results = 2.95 seconds\n",
      "GPU result = -988810.125  \ttime taken = 2.95 seconds\n"
     ]
    }
   ],
   "source": [
    "#======== GPU\n",
    "torchRNG = torch.Generator()\n",
    "torchRNG.manual_seed(1234567)\n",
    "a = torch.randn([16384,16384], generator=torchRNG, device='cpu')\n",
    "\n",
    "tBegin = time.time()\n",
    "A = a.cuda()\n",
    "tEnd = time.time() ; tElapsed = tEnd - tBegin\n",
    "print ('Time taken to upload to GPU = {:.3} seconds'.format(tElapsed))\n",
    "\n",
    "tBegin = time.time()\n",
    "B = torch.matmul (A, A)\n",
    "C = torch.sum (B)\n",
    "tEnd = time.time() ; tElapsed = tEnd - tBegin\n",
    "print ('Time taken for GPU computation = {:.3} seconds'.format(tElapsed))\n",
    "\n",
    "tBegin = time.time()\n",
    "c = C.cpu()\n",
    "tEnd = time.time() ; tElapsed = tEnd - tBegin\n",
    "print ('Time taken to download results = {:.3} seconds'.format(tElapsed))\n",
    "\n",
    "print ('GPU result = {}'.format(c), ' \\ttime taken = {:.3} seconds'.format(tElapsed))"
   ]
  },
  {
   "cell_type": "markdown",
   "id": "b7dc5876-3210-4e70-a062-4e1904ee83d8",
   "metadata": {},
   "source": [
    "There are two important points to note:\n",
    "- The GPU calculation is significantly faster than the CPU calculation.\n",
    "- The results differ by a few parts per million, due to slightly different hardware implementations in CPU and GPU!"
   ]
  },
  {
   "cell_type": "markdown",
   "id": "fe4061ca-e04d-4549-91ca-2ebe5f05c361",
   "metadata": {
    "tags": []
   },
   "source": [
    "---\n",
    "## 4. Mandelbrot"
   ]
  },
  {
   "cell_type": "markdown",
   "id": "c7a86412-f761-4964-b31e-c1e0e80b6be3",
   "metadata": {},
   "source": [
    "Let\n",
    "\n",
    "$\\qquad\\begin{align}\n",
    "z_0 &= 0 \\\\\n",
    "z_{n} &= z_{n-1}^2 + x+iy   \\qquad (n=1,2,3,\\dotsc,N) \\\\\n",
    "\\end{align}$\n",
    "\n",
    "for an array of $I\\times J$ values of $(x,y)$.  Plot $\\lvert z_N(x,y) \\rvert$ for $I=1000$, $J=1000$, $N=1500$ ."
   ]
  },
  {
   "cell_type": "code",
   "execution_count": 3,
   "id": "fc3ac22e-ee1c-4cb6-93b6-e644b59beca2",
   "metadata": {},
   "outputs": [],
   "source": [
    "imax,jmax,nmax = 1000,1000,1500"
   ]
  },
  {
   "cell_type": "code",
   "execution_count": 4,
   "id": "5a2eb42d-eaba-4f60-bf7f-11c56fab4163",
   "metadata": {},
   "outputs": [],
   "source": [
    "xmin,xmax = -2, 1\n",
    "ymin,ymax = -1.5, 1.5\n",
    "x = np.linspace (xmin, xmax, imax)\n",
    "y = np.linspace (ymin, ymax, jmax)\n",
    "x,y = np.meshgrid(x, y)"
   ]
  },
  {
   "cell_type": "code",
   "execution_count": 5,
   "id": "5e64382c-8a65-4188-8658-33125639bdb7",
   "metadata": {},
   "outputs": [
    {
     "name": "stdout",
     "output_type": "stream",
     "text": [
      "CPU calculation: time taken = 13.3 seconds\n"
     ]
    },
    {
     "data": {
      "image/png": "[encoded data removed]",
      "text/plain": [
       "<Figure size 432x288 with 1 Axes>"
      ]
     },
     "metadata": {
      "needs_background": "light"
     },
     "output_type": "display_data"
    }
   ],
   "source": [
    "np.seterr (over='ignore',invalid='ignore')\n",
    "\n",
    "tBegin = time.time()\n",
    "u = np.zeros_like(x)\n",
    "v = np.zeros_like(x)\n",
    "for n in range(nmax):\n",
    "  w = u*u - v*v + x\n",
    "  v = 2*u*v + y\n",
    "  u = w\n",
    "p = u*u + v*v\n",
    "tEnd = time.time()\n",
    "tElapsed = tEnd - tBegin\n",
    "\n",
    "p=1/(1+p) ; p=np.where(np.isnan(p),0,p)\n",
    "plt.imshow (p, extent=[xmin,xmax,ymin,ymax], vmin=0, vmax=1, cmap='gist_ncar') ;\n",
    "print ('CPU calculation: time taken = {:.3} seconds'.format(tElapsed))"
   ]
  },
  {
   "cell_type": "code",
   "execution_count": 6,
   "id": "5af06541-3254-48f7-805d-c49c59889980",
   "metadata": {},
   "outputs": [
    {
     "name": "stdout",
     "output_type": "stream",
     "text": [
      "GPU calculation: time taken = 1.55 seconds\n"
     ]
    },
    {
     "data": {
      "image/png": "[encoded data removed]",
      "text/plain": [
       "<Figure size 432x288 with 1 Axes>"
      ]
     },
     "metadata": {
      "needs_background": "light"
     },
     "output_type": "display_data"
    }
   ],
   "source": [
    "tBegin = time.time()\n",
    "X = torch.tensor(x).cuda()\n",
    "Y = torch.tensor(y).cuda()\n",
    "U = torch.zeros_like(X)  # U is automatically on the GPU\n",
    "V = torch.zeros_like(X) \n",
    "for n in range(nmax):\n",
    "  W = U*U - V*V + X\n",
    "  V = 2*U*V + Y\n",
    "  U = W\n",
    "P = U*U + V*V\n",
    "p = P.cpu()\n",
    "tEnd = time.time()\n",
    "tElapsed = tEnd - tBegin\n",
    "\n",
    "p=1/(1+p) ; p=np.where(np.isnan(p),0,p)\n",
    "plt.imshow (p, extent=[xmin,xmax,ymin,ymax], vmin=0, vmax=1, cmap='gist_ncar') ;\n",
    "print ('GPU calculation: time taken = {:.3} seconds'.format(tElapsed))"
   ]
  },
  {
   "cell_type": "markdown",
   "id": "994885f2-8892-4b8e-87a4-b72a6a679799",
   "metadata": {},
   "source": [
    "The GPU achieves the same result as the CPU, but in siginificantly less time."
   ]
  },
  {
   "cell_type": "markdown",
   "id": "59be3188-a04d-4ba8-8e20-cc0248c4e618",
   "metadata": {
    "tags": []
   },
   "source": [
    "---\n",
    "## 5. Train a simple neural network using GPU"
   ]
  },
  {
   "cell_type": "code",
   "execution_count": 44,
   "id": "9b7463cc-b984-4ef7-8e7e-be9f2cb159b6",
   "metadata": {},
   "outputs": [],
   "source": [
    "def train(xnd, ynd, model, loss, optimizer, epochs=10000, lossTarget=0.0001, reportInterval=10):\n",
    "  model.train()                  # put model in training mode\n",
    "  for t in range(epochs):      # t is the epoch number\n",
    "    for bunch in range(100):\n",
    "      Ynd = model(xnd)             # uppercase Y = model prediction\n",
    "      F = loss(Ynd,ynd)\n",
    "      F.backward()\n",
    "      optimizer.step()\n",
    "      optimizer.zero_grad()\n",
    "    F = F.item()\n",
    "    if t % reportInterval == 0 or t==epochs:\n",
    "      print('Training epoch {}/{}  \\t Loss = {:.4f}'.format(t, epochs, F, F<lossTarget))\n",
    "    if F<lossTarget: return\n",
    "  print ('Warning: loss > lossTarget!\\n')"
   ]
  },
  {
   "cell_type": "code",
   "execution_count": 45,
   "id": "31988143-ec21-4cdb-9d24-e04f725cef96",
   "metadata": {},
   "outputs": [
    {
     "name": "stdout",
     "output_type": "stream",
     "text": [
      "Training epoch 0/10000  \t Loss = 0.5510\n",
      "Training epoch 10/10000  \t Loss = 0.1707\n",
      "Training epoch 20/10000  \t Loss = 0.0890\n",
      "Training epoch 30/10000  \t Loss = 0.0506\n",
      "Training epoch 40/10000  \t Loss = 0.0296\n",
      "Training epoch 50/10000  \t Loss = 0.0176\n",
      "Training epoch 60/10000  \t Loss = 0.0106\n",
      "Training epoch 70/10000  \t Loss = 0.0065\n",
      "Training epoch 80/10000  \t Loss = 0.0040\n",
      "Training epoch 90/10000  \t Loss = 0.0024\n",
      "Training epoch 100/10000  \t Loss = 0.0015\n",
      "Training epoch 110/10000  \t Loss = 0.0009\n",
      "Training epoch 120/10000  \t Loss = 0.0006\n",
      "Training epoch 130/10000  \t Loss = 0.0004\n",
      "Training epoch 140/10000  \t Loss = 0.0002\n",
      "Training epoch 150/10000  \t Loss = 0.0001\n"
     ]
    }
   ],
   "source": [
    "#================ TRAIN A MODEL ON THE DATA USING THE CPU\n",
    "xnd   = torch.tensor([[0,0,0],[0,0,1],[0,1,0],[0,1,1],[1,0,0],[1,0,1],[1,1,0],[1,1,1]], dtype=torch.float32)\n",
    "ynd   = torch.tensor([[0,0,0,0,0,0,0,1]], dtype=torch.float32).T\n",
    "model     = nn.Sequential (nn.Linear(3,1), nn.Sigmoid())\n",
    "loss      = nn.BCELoss()\n",
    "optimizer = torch.optim.Adam (model.parameters(), lr=0.01)\n",
    "train (xnd, ynd, model, loss, optimizer)"
   ]
  },
  {
   "cell_type": "code",
   "execution_count": 47,
   "id": "481ffced-5977-45a6-8d52-e7096d817368",
   "metadata": {},
   "outputs": [
    {
     "data": {
      "text/plain": [
       "tensor([[16.7990, 16.7790, 16.7908]])"
      ]
     },
     "execution_count": 47,
     "metadata": {},
     "output_type": "execute_result"
    }
   ],
   "source": [
    "#================ THE MODEL PARAMETERS LIVE ON THE CPU\n",
    "model[0].weight.detach()"
   ]
  },
  {
   "cell_type": "code",
   "execution_count": 40,
   "id": "c3b482c5-aa5c-4fbc-a90e-f5ccc7610657",
   "metadata": {},
   "outputs": [
    {
     "name": "stdout",
     "output_type": "stream",
     "text": [
      "Training epoch 0/10000  \t Loss = 0.5446\n",
      "Training epoch 10/10000  \t Loss = 0.1743\n",
      "Training epoch 20/10000  \t Loss = 0.0913\n",
      "Training epoch 30/10000  \t Loss = 0.0522\n",
      "Training epoch 40/10000  \t Loss = 0.0306\n",
      "Training epoch 50/10000  \t Loss = 0.0182\n",
      "Training epoch 60/10000  \t Loss = 0.0110\n",
      "Training epoch 70/10000  \t Loss = 0.0067\n",
      "Training epoch 80/10000  \t Loss = 0.0041\n",
      "Training epoch 90/10000  \t Loss = 0.0025\n",
      "Training epoch 100/10000  \t Loss = 0.0016\n",
      "Training epoch 110/10000  \t Loss = 0.0010\n",
      "Training epoch 120/10000  \t Loss = 0.0006\n",
      "Training epoch 130/10000  \t Loss = 0.0004\n",
      "Training epoch 140/10000  \t Loss = 0.0002\n",
      "Training epoch 150/10000  \t Loss = 0.0001\n"
     ]
    }
   ],
   "source": [
    "#================ TRAIN A MODEL USING THE GPU\n",
    "model = nn.Sequential (nn.Linear(3,1), nn.Sigmoid())\n",
    "XND   = xnd.cuda()\n",
    "YND   = ynd.cuda()\n",
    "MODEL = model.cuda()\n",
    "LOSS  = loss.cuda()\n",
    "OPTIMIZER = torch.optim.Adam (MODEL.parameters(), lr=0.01)\n",
    "train (XND, YND, MODEL, LOSS, OPTIMIZER)"
   ]
  },
  {
   "cell_type": "code",
   "execution_count": 42,
   "id": "67532594-0bee-49e0-b63e-3f57084efaaa",
   "metadata": {},
   "outputs": [
    {
     "data": {
      "text/plain": [
       "tensor([[16.8270, 16.8148, 16.8088]], device='cuda:0')"
      ]
     },
     "execution_count": 42,
     "metadata": {},
     "output_type": "execute_result"
    }
   ],
   "source": [
    "#================ THE MODEL PARAMETERS LIVE ON THE GPU\n",
    "MODEL[0].weight.detach()"
   ]
  }
 ],
 "metadata": {
  "kernelspec": {
   "display_name": "Python 3 (ipykernel)",
   "language": "python",
   "name": "python3"
  },
  "language_info": {
   "codemirror_mode": {
    "name": "ipython",
    "version": 3
   },
   "file_extension": ".py",
   "mimetype": "text/x-python",
   "name": "python",
   "nbconvert_exporter": "python",
   "pygments_lexer": "ipython3",
   "version": "3.9.12"
  }
 },
 "nbformat": 4,
 "nbformat_minor": 5
}
