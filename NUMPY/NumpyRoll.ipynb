{
 "cells": [
  {
   "cell_type": "code",
   "execution_count": 7,
   "id": "77676fae-ee63-48a4-af62-aee3a708c632",
   "metadata": {},
   "outputs": [],
   "source": [
    "import numpy as np"
   ]
  },
  {
   "cell_type": "code",
   "execution_count": 6,
   "id": "098741c6-c0a7-4752-801e-0fc64308a560",
   "metadata": {},
   "outputs": [
    {
     "data": {
      "text/plain": [
       "[4, 5, 6, 4, 5, 6, 4, 5, 6, 2, 3]"
      ]
     },
     "execution_count": 6,
     "metadata": {},
     "output_type": "execute_result"
    }
   ],
   "source": [
    "3*[4,5,6] + [2,3]"
   ]
  },
  {
   "cell_type": "code",
   "execution_count": 10,
   "id": "a070413c-bab2-43cd-886c-cf7925b4662a",
   "metadata": {},
   "outputs": [
    {
     "data": {
      "text/plain": [
       "array([5, 7, 9])"
      ]
     },
     "execution_count": 10,
     "metadata": {},
     "output_type": "execute_result"
    }
   ],
   "source": [
    "np.array ([4,5,6]) + np.array ([1,2,3]"
   ]
  },
  {
   "cell_type": "markdown",
   "id": "87609550-5469-42e9-9bda-24378616d02f",
   "metadata": {},
   "source": [
    "# Using numpy.roll and torch.roll\n",
    "## Extracting \"Features\" G4 and G5 for FerroelectricML project\n",
    "### Yen Lee Loh, 2021-9-6"
   ]
  },
  {
   "cell_type": "code",
   "execution_count": 1,
   "id": "3aef155d-580e-4294-a1ed-4fdc91c370bd",
   "metadata": {},
   "outputs": [],
   "source": [
    "import numpy as np\n",
    "import torch\n",
    "import matplotlib.pyplot as plt"
   ]
  },
  {
   "cell_type": "markdown",
   "id": "60dacd99-a2f0-42a2-9c54-3e579effc047",
   "metadata": {},
   "source": [
    "---"
   ]
  },
  {
   "cell_type": "markdown",
   "id": "c4e5fc3f-8d5d-4a11-a96a-b86f206e5d32",
   "metadata": {},
   "source": [
    "## 1. numpy.roll in cardinal directions (along a single axis)"
   ]
  },
  {
   "cell_type": "markdown",
   "id": "20a5a7bb-be59-47b5-a354-1c0d3025628d",
   "metadata": {},
   "source": [
    "### Observe how the number \"55\" moves when numpy.roll is applied to the matrix."
   ]
  },
  {
   "cell_type": "code",
   "execution_count": 7,
   "id": "306f4743-d6f3-40e6-9851-f4d0d49795df",
   "metadata": {},
   "outputs": [
    {
     "name": "stdout",
     "output_type": "stream",
     "text": [
      "\n",
      "P[i,j] = original matrix\n",
      "[[ 1  2  3  0]\n",
      " [ 4 55  6  0]\n",
      " [ 7  8  9  0]]\n",
      "\n",
      "P[i-1,j] = matrix rolled by +1 in dimension 0 (i -> i+1)\n",
      "[[ 7  8  9  0]\n",
      " [ 1  2  3  0]\n",
      " [ 4 55  6  0]]\n",
      "\n",
      "P[i+1,j] = matrix rolled by -1 in dimension 0 (i -> i-1)\n",
      "[[ 4 55  6  0]\n",
      " [ 7  8  9  0]\n",
      " [ 1  2  3  0]]\n",
      "\n",
      "P[i,j-1] = matrix rolled by +1 in dimension 1 (j -> j+1)\n",
      "[[ 0  1  2  3]\n",
      " [ 0  4 55  6]\n",
      " [ 0  7  8  9]]\n",
      "\n",
      "P[i,j+1] = matrix rolled by -1 in dimension 1 (j -> j-1)\n",
      "[[ 2  3  0  1]\n",
      " [55  6  0  4]\n",
      " [ 8  9  0  7]]\n"
     ]
    }
   ],
   "source": [
    "Pij = np.array ([[1,2,3,0],[4,55,6,0],[7,8,9,0]])\n",
    "print (\"\\nP[i,j] = original matrix\"); print(Pij)\n",
    "print (\"\\nP[i-1,j] = matrix rolled by +1 in dimension 0 (i -> i+1)\"); print (np.roll (Pij, +1, 0))\n",
    "print (\"\\nP[i+1,j] = matrix rolled by -1 in dimension 0 (i -> i-1)\"); print (np.roll (Pij, -1, 0))\n",
    "print (\"\\nP[i,j-1] = matrix rolled by +1 in dimension 1 (j -> j+1)\"); print (np.roll (Pij, +1, 1))\n",
    "print (\"\\nP[i,j+1] = matrix rolled by -1 in dimension 1 (j -> j-1)\"); print (np.roll (Pij, -1, 1))"
   ]
  },
  {
   "cell_type": "markdown",
   "id": "05f895b3-daf0-4137-b02d-9c975b8ed526",
   "metadata": {},
   "source": [
    "## 2. numpy.roll in general direction, including diagonal or oblique directions"
   ]
  },
  {
   "cell_type": "markdown",
   "id": "8cbd7b77-fc52-409e-a8b6-a5967a3f81c5",
   "metadata": {},
   "source": [
    "### This is my preferred syntax, since it is most general."
   ]
  },
  {
   "cell_type": "code",
   "execution_count": 9,
   "id": "ba8989e0-490f-49f0-961c-5d4dae127a55",
   "metadata": {},
   "outputs": [
    {
     "name": "stdout",
     "output_type": "stream",
     "text": [
      "\n",
      "P[i,j] = original matrix\n",
      "[[ 1  2  3  0]\n",
      " [ 4 55  6  0]\n",
      " [ 7  8  9  0]]\n",
      "\n",
      "P[i-1,j] = matrix rolled such that i->i+1 and j->j+0\n",
      "[[ 7  8  9  0]\n",
      " [ 1  2  3  0]\n",
      " [ 4 55  6  0]]\n",
      "\n",
      "P[i-1,j-1] = matrix rolled such that i->i+1 and j->j+1\n",
      "[[ 0  7  8  9]\n",
      " [ 0  1  2  3]\n",
      " [ 0  4 55  6]]\n",
      "\n",
      "P[i-1,j-2] = matrix rolled such that i->i+1 and j->j+2\n",
      "[[ 9  0  7  8]\n",
      " [ 3  0  1  2]\n",
      " [ 6  0  4 55]]\n"
     ]
    }
   ],
   "source": [
    "print (\"\\nP[i,j] = original matrix\"); print (Pij)\n",
    "print (\"\\nP[i-1,j] = matrix rolled such that i->i+1 and j->j+0\"); print (np.roll (Pij, (+1, 0), axis=(0,1)))\n",
    "print (\"\\nP[i-1,j-1] = matrix rolled such that i->i+1 and j->j+1\"); print (np.roll (Pij, (+1,+1), axis=(0,1)))\n",
    "print (\"\\nP[i-1,j-2] = matrix rolled such that i->i+1 and j->j+2\"); print (np.roll (Pij, (+1,+2), axis=(0,1)))"
   ]
  },
  {
   "cell_type": "markdown",
   "id": "16563900-7374-4002-87e4-bc351e22a333",
   "metadata": {},
   "source": [
    "## 3. torch.roll"
   ]
  },
  {
   "cell_type": "markdown",
   "id": "a73fe37a-35b9-45f3-9058-7d77df970cef",
   "metadata": {},
   "source": [
    "### You can do the same thing with PyTorch."
   ]
  },
  {
   "cell_type": "code",
   "execution_count": 10,
   "id": "4eb65fdf-73a5-4774-918d-94281dc6d098",
   "metadata": {},
   "outputs": [
    {
     "name": "stdout",
     "output_type": "stream",
     "text": [
      "\n",
      "P[i,j] = original matrix\n",
      "tensor([[ 1,  2,  3,  0],\n",
      "        [ 4, 55,  6,  0],\n",
      "        [ 7,  8,  9,  0]])\n",
      "\n",
      "P[i-1,j] = matrix rolled by +1 in dimension 0 (i -> i+1)\n",
      "tensor([[ 7,  8,  9,  0],\n",
      "        [ 1,  2,  3,  0],\n",
      "        [ 4, 55,  6,  0]])\n",
      "\n",
      "P[i+1,j] = matrix rolled by -1 in dimension 0 (i -> i-1)\n",
      "tensor([[ 4, 55,  6,  0],\n",
      "        [ 7,  8,  9,  0],\n",
      "        [ 1,  2,  3,  0]])\n",
      "\n",
      "P[i,j-1] = matrix rolled by +1 in dimension 1 (j -> j+1)\n",
      "tensor([[ 0,  1,  2,  3],\n",
      "        [ 0,  4, 55,  6],\n",
      "        [ 0,  7,  8,  9]])\n",
      "\n",
      "P[i,j+1] = matrix rolled by -1 in dimension 1 (j -> j-1)\n",
      "tensor([[ 2,  3,  0,  1],\n",
      "        [55,  6,  0,  4],\n",
      "        [ 8,  9,  0,  7]])\n"
     ]
    }
   ],
   "source": [
    "Pij = torch.tensor ([[1,2,3,0],[4,55,6,0],[7,8,9,0]])\n",
    "print (\"\\nP[i,j] = original matrix\"); print(Pij)\n",
    "print (\"\\nP[i-1,j] = matrix rolled by +1 in dimension 0 (i -> i+1)\"); print (torch.roll (Pij, +1, 0))\n",
    "print (\"\\nP[i+1,j] = matrix rolled by -1 in dimension 0 (i -> i-1)\"); print (torch.roll (Pij, -1, 0))\n",
    "print (\"\\nP[i,j-1] = matrix rolled by +1 in dimension 1 (j -> j+1)\"); print (torch.roll (Pij, +1, 1))\n",
    "print (\"\\nP[i,j+1] = matrix rolled by -1 in dimension 1 (j -> j-1)\"); print (torch.roll (Pij, -1, 1))"
   ]
  },
  {
   "cell_type": "markdown",
   "id": "2412786d-ece0-4258-88f1-8c46c2dced32",
   "metadata": {},
   "source": [
    "---\n",
    "## 4. Computing nearest-neighbor differences on a lattice with periodic boundary conditions"
   ]
  },
  {
   "cell_type": "code",
   "execution_count": 11,
   "id": "ab614162-4797-4981-9ab5-8f89ac3683e0",
   "metadata": {},
   "outputs": [
    {
     "name": "stdout",
     "output_type": "stream",
     "text": [
      "\n",
      "Original matrix:                     P[i,j] = \n",
      " tensor([[ 0,  1,  2,  3],\n",
      "        [ 4,  5,  6,  7],\n",
      "        [ 8,  9, 10, 11],\n",
      "        [12, 13, 14, 15]])\n",
      "\n",
      "Forward difference between rows:     P[i+1,j] - P[i,j] = \n",
      " tensor([[  4,   4,   4,   4],\n",
      "        [  4,   4,   4,   4],\n",
      "        [  4,   4,   4,   4],\n",
      "        [-12, -12, -12, -12]])\n",
      "\n",
      "Forward difference between columns:  P[i,j+1] - P[i,j] = \n",
      " tensor([[ 1,  1,  1, -3],\n",
      "        [ 1,  1,  1, -3],\n",
      "        [ 1,  1,  1, -3],\n",
      "        [ 1,  1,  1, -3]])\n"
     ]
    }
   ],
   "source": [
    "Pij = torch.tensor ([[0,1,2,3],[4,5,6,7],[8,9,10,11],[12,13,14,15]])\n",
    "print (\"\\nOriginal matrix:                     P[i,j] = \\n\", Pij)\n",
    "print (\"\\nForward difference between rows:     P[i+1,j] - P[i,j] = \\n\",   torch.roll(Pij,-1,0) - Pij  )\n",
    "print (\"\\nForward difference between columns:  P[i,j+1] - P[i,j] = \\n\",   torch.roll(Pij,-1,1) - Pij  )"
   ]
  },
  {
   "cell_type": "code",
   "execution_count": 12,
   "id": "9bfcdd8b-64ad-46d1-ab86-1c9b4a82dffc",
   "metadata": {},
   "outputs": [
    {
     "name": "stdout",
     "output_type": "stream",
     "text": [
      "\n",
      "Configuration with horizontal stripes: P[i,j] = \n",
      " tensor([[5, 5, 5, 5],\n",
      "        [7, 7, 7, 7],\n",
      "        [6, 6, 6, 6],\n",
      "        [3, 3, 3, 3]])\n",
      "Sum of squares of vertical differences:    sum_{ij} (P[i+1,j] - P[i,j])^2 =  72\n",
      "Sum of squares of horizontal differences:  sum_{ij} (P[i,j+1] - P[i,j])^2 =  0\n",
      "\n",
      "Configuration with vertical stripes: P[i,j] = \n",
      " tensor([[5, 7, 6, 3],\n",
      "        [5, 7, 6, 3],\n",
      "        [5, 7, 6, 3],\n",
      "        [5, 7, 6, 3]])\n",
      "Sum of squares of vertical differences:    sum_{ij} (P[i+1,j] - P[i,j])^2 =  0\n",
      "Sum of squares of horizontal differences:  sum_{ij} (P[i,j+1] - P[i,j])^2 =  72\n",
      "\n",
      "Checkerboard configuration: P[i,j] = \n",
      " tensor([[2, 9, 2, 9],\n",
      "        [9, 2, 9, 2],\n",
      "        [2, 9, 2, 9],\n",
      "        [9, 2, 9, 2]])\n",
      "Sum of squares of vertical differences:    sum_{ij} (P[i+1,j] - P[i,j])^2 =  784\n",
      "Sum of squares of horizontal differences:  sum_{ij} (P[i,j+1] - P[i,j])^2 =  784\n"
     ]
    }
   ],
   "source": [
    "Pij = torch.tensor ([[5,5,5,5],[7,7,7,7],[6,6,6,6],[3,3,3,3]])\n",
    "print (\"\\nConfiguration with horizontal stripes: P[i,j] = \\n\", Pij)\n",
    "print (\"Sum of squares of vertical differences:    sum_{ij} (P[i+1,j] - P[i,j])^2 = \",   torch.sum((torch.roll(Pij,-1,0) - Pij)**2).item()  )\n",
    "print (\"Sum of squares of horizontal differences:  sum_{ij} (P[i,j+1] - P[i,j])^2 = \",   torch.sum((torch.roll(Pij,-1,1) - Pij)**2).item()  )\n",
    "Pij = torch.tensor ([[5,5,5,5],[7,7,7,7],[6,6,6,6],[3,3,3,3]]).T\n",
    "print (\"\\nConfiguration with vertical stripes: P[i,j] = \\n\", Pij)\n",
    "print (\"Sum of squares of vertical differences:    sum_{ij} (P[i+1,j] - P[i,j])^2 = \",   torch.sum((torch.roll(Pij,-1,0) - Pij)**2).item()  )\n",
    "print (\"Sum of squares of horizontal differences:  sum_{ij} (P[i,j+1] - P[i,j])^2 = \",   torch.sum((torch.roll(Pij,-1,1) - Pij)**2).item()  )\n",
    "Pij = torch.tensor ([[2,9,2,9],[9,2,9,2],[2,9,2,9],[9,2,9,2]]).T\n",
    "print (\"\\nCheckerboard configuration: P[i,j] = \\n\", Pij)\n",
    "print (\"Sum of squares of vertical differences:    sum_{ij} (P[i+1,j] - P[i,j])^2 = \",   torch.sum((torch.roll(Pij,-1,0) - Pij)**2).item()  )\n",
    "print (\"Sum of squares of horizontal differences:  sum_{ij} (P[i,j+1] - P[i,j])^2 = \",   torch.sum((torch.roll(Pij,-1,1) - Pij)**2).item()  )"
   ]
  }
 ],
 "metadata": {
  "kernelspec": {
   "display_name": "Python 3 (ipykernel)",
   "language": "python",
   "name": "python3"
  },
  "language_info": {
   "codemirror_mode": {
    "name": "ipython",
    "version": 3
   },
   "file_extension": ".py",
   "mimetype": "text/x-python",
   "name": "python",
   "nbconvert_exporter": "python",
   "pygments_lexer": "ipython3",
   "version": "3.9.12"
  }
 },
 "nbformat": 4,
 "nbformat_minor": 5
}
